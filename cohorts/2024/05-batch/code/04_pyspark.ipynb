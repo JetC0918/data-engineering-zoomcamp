{
 "cells": [
  {
   "cell_type": "code",
   "execution_count": 1,
   "id": "0ddc8fa4-6b9a-4bbe-9727-65af3fd19c7a",
   "metadata": {},
   "outputs": [],
   "source": [
    "import pyspark\n",
    "from pyspark.sql import SparkSession"
   ]
  },
  {
   "cell_type": "code",
   "execution_count": 2,
   "id": "2d15c95e-5d72-474e-9d0d-4d2f87c1c360",
   "metadata": {},
   "outputs": [
    {
     "data": {
      "text/plain": [
       "'C:\\\\Users\\\\crab\\\\AppData\\\\Local\\\\Programs\\\\Python\\\\Python311\\\\Lib\\\\site-packages\\\\pyspark\\\\__init__.py'"
      ]
     },
     "execution_count": 2,
     "metadata": {},
     "output_type": "execute_result"
    }
   ],
   "source": [
    "pyspark.__file__"
   ]
  },
  {
   "cell_type": "code",
   "execution_count": 3,
   "id": "45d46e16-f851-4ed4-b0db-b45cd583030f",
   "metadata": {},
   "outputs": [],
   "source": [
    "spark = SparkSession.builder \\\n",
    "    .master(\"local[*]\") \\\n",
    "    .appName('test') \\\n",
    "    .getOrCreate()"
   ]
  },
  {
   "cell_type": "code",
   "execution_count": 6,
   "id": "88542fa0-e045-4645-94db-63b07673cd68",
   "metadata": {
    "scrolled": true
   },
   "outputs": [
    {
     "name": "stdout",
     "output_type": "stream",
     "text": [
      "File downloaded successfully.\n"
     ]
    }
   ],
   "source": [
    "import requests\n",
    "\n",
    "url = \"https://github.com/DataTalksClub/nyc-tlc-data/releases/download/fhvhv/fhvhv_tripdata_2021-01.csv.gz\"\n",
    "response = requests.get(url)\n",
    "\n",
    "with open(\"fhvhv_tripdata_2021-01.csv.gz\", \"wb\") as file:\n",
    "    file.write(response.content)\n",
    "\n",
    "print(\"File downloaded successfully.\")"
   ]
  },
  {
   "cell_type": "code",
   "execution_count": 4,
   "id": "21447783-bd2c-48cb-99a5-102445aa0fc6",
   "metadata": {},
   "outputs": [],
   "source": [
    "df = spark.read \\\n",
    "    .option(\"header\", \"true\") \\\n",
    "    .csv('fhvhv_tripdata_2021-01.csv')"
   ]
  },
  {
   "cell_type": "code",
   "execution_count": 5,
   "id": "553e0e2d-8b7b-41fe-b02d-f99b9bd30805",
   "metadata": {},
   "outputs": [
    {
     "name": "stdout",
     "output_type": "stream",
     "text": [
      "+-----------------+--------------------+-------------------+-------------------+------------+------------+-------+\n",
      "|hvfhs_license_num|dispatching_base_num|    pickup_datetime|   dropoff_datetime|PULocationID|DOLocationID|SR_Flag|\n",
      "+-----------------+--------------------+-------------------+-------------------+------------+------------+-------+\n",
      "|           HV0003|              B02682|2021-01-01 00:33:44|2021-01-01 00:49:07|         230|         166|   null|\n",
      "|           HV0003|              B02682|2021-01-01 00:55:19|2021-01-01 01:18:21|         152|         167|   null|\n",
      "|           HV0003|              B02764|2021-01-01 00:23:56|2021-01-01 00:38:05|         233|         142|   null|\n",
      "|           HV0003|              B02764|2021-01-01 00:42:51|2021-01-01 00:45:50|         142|         143|   null|\n",
      "|           HV0003|              B02764|2021-01-01 00:48:14|2021-01-01 01:08:42|         143|          78|   null|\n",
      "|           HV0005|              B02510|2021-01-01 00:06:59|2021-01-01 00:43:01|          88|          42|   null|\n",
      "|           HV0005|              B02510|2021-01-01 00:50:00|2021-01-01 01:04:57|          42|         151|   null|\n",
      "|           HV0003|              B02764|2021-01-01 00:14:30|2021-01-01 00:50:27|          71|         226|   null|\n",
      "|           HV0003|              B02875|2021-01-01 00:22:54|2021-01-01 00:30:20|         112|         255|   null|\n",
      "|           HV0003|              B02875|2021-01-01 00:40:12|2021-01-01 00:53:31|         255|         232|   null|\n",
      "|           HV0003|              B02875|2021-01-01 00:56:45|2021-01-01 01:17:42|         232|         198|   null|\n",
      "|           HV0003|              B02835|2021-01-01 00:29:04|2021-01-01 00:36:27|         113|          48|   null|\n",
      "|           HV0003|              B02835|2021-01-01 00:48:56|2021-01-01 00:59:12|         239|          75|   null|\n",
      "|           HV0004|              B02800|2021-01-01 00:15:24|2021-01-01 00:38:31|         181|         237|   null|\n",
      "|           HV0004|              B02800|2021-01-01 00:45:00|2021-01-01 01:06:45|         236|          68|   null|\n",
      "|           HV0003|              B02682|2021-01-01 00:11:53|2021-01-01 00:18:06|         256|         148|   null|\n",
      "|           HV0003|              B02682|2021-01-01 00:28:31|2021-01-01 00:41:40|          79|          80|   null|\n",
      "|           HV0003|              B02682|2021-01-01 00:50:49|2021-01-01 00:55:59|          17|         217|   null|\n",
      "|           HV0005|              B02510|2021-01-01 00:08:40|2021-01-01 00:39:39|          62|          29|   null|\n",
      "|           HV0003|              B02836|2021-01-01 00:53:48|2021-01-01 01:11:40|          22|          22|   null|\n",
      "+-----------------+--------------------+-------------------+-------------------+------------+------------+-------+\n",
      "only showing top 20 rows\n",
      "\n"
     ]
    }
   ],
   "source": [
    "df.show()"
   ]
  },
  {
   "cell_type": "code",
   "execution_count": 6,
   "id": "e26f5c7f-b9c5-4794-a70e-7fe7d51f7ef5",
   "metadata": {},
   "outputs": [
    {
     "data": {
      "text/plain": [
       "[Row(hvfhs_license_num='HV0003', dispatching_base_num='B02682', pickup_datetime='2021-01-01 00:33:44', dropoff_datetime='2021-01-01 00:49:07', PULocationID='230', DOLocationID='166', SR_Flag=None),\n",
       " Row(hvfhs_license_num='HV0003', dispatching_base_num='B02682', pickup_datetime='2021-01-01 00:55:19', dropoff_datetime='2021-01-01 01:18:21', PULocationID='152', DOLocationID='167', SR_Flag=None),\n",
       " Row(hvfhs_license_num='HV0003', dispatching_base_num='B02764', pickup_datetime='2021-01-01 00:23:56', dropoff_datetime='2021-01-01 00:38:05', PULocationID='233', DOLocationID='142', SR_Flag=None),\n",
       " Row(hvfhs_license_num='HV0003', dispatching_base_num='B02764', pickup_datetime='2021-01-01 00:42:51', dropoff_datetime='2021-01-01 00:45:50', PULocationID='142', DOLocationID='143', SR_Flag=None),\n",
       " Row(hvfhs_license_num='HV0003', dispatching_base_num='B02764', pickup_datetime='2021-01-01 00:48:14', dropoff_datetime='2021-01-01 01:08:42', PULocationID='143', DOLocationID='78', SR_Flag=None)]"
      ]
     },
     "execution_count": 6,
     "metadata": {},
     "output_type": "execute_result"
    }
   ],
   "source": [
    "df.head(5)"
   ]
  },
  {
   "cell_type": "code",
   "execution_count": 5,
   "id": "cd8a3d6c-331b-4f0a-a6ed-0eb8fc422df6",
   "metadata": {},
   "outputs": [
    {
     "data": {
      "text/plain": [
       "StructType([StructField('hvfhs_license_num', StringType(), True), StructField('dispatching_base_num', StringType(), True), StructField('pickup_datetime', StringType(), True), StructField('dropoff_datetime', StringType(), True), StructField('PULocationID', StringType(), True), StructField('DOLocationID', StringType(), True), StructField('SR_Flag', StringType(), True)])"
      ]
     },
     "execution_count": 5,
     "metadata": {},
     "output_type": "execute_result"
    }
   ],
   "source": [
    "df.schema"
   ]
  },
  {
   "cell_type": "code",
   "execution_count": 15,
   "id": "7beee4ef-36d2-4134-947e-68e78e8811ef",
   "metadata": {},
   "outputs": [],
   "source": [
    "# For linux only/ Git bash on Window\n",
    "# Save 1st 100 rows to a new table\n",
    "# !head -n 101 fhvhv_tripdata_2021-01.csv > head.csv"
   ]
  },
  {
   "cell_type": "code",
   "execution_count": 6,
   "id": "a0420c50-5be6-4e01-8db7-1084d243ac14",
   "metadata": {},
   "outputs": [],
   "source": [
    "import pandas as pd"
   ]
  },
  {
   "cell_type": "code",
   "execution_count": 7,
   "id": "aabf952a-6011-4a4f-b2eb-54e4159a9b9f",
   "metadata": {},
   "outputs": [],
   "source": [
    "df_pandas = pd.read_csv(\"head.csv\")"
   ]
  },
  {
   "cell_type": "code",
   "execution_count": 8,
   "id": "449b0422-f053-4f83-8abb-8c2f1a5e3a3e",
   "metadata": {},
   "outputs": [
    {
     "data": {
      "text/plain": [
       "hvfhs_license_num        object\n",
       "dispatching_base_num     object\n",
       "pickup_datetime          object\n",
       "dropoff_datetime         object\n",
       "PULocationID              int64\n",
       "DOLocationID              int64\n",
       "SR_Flag                 float64\n",
       "dtype: object"
      ]
     },
     "execution_count": 8,
     "metadata": {},
     "output_type": "execute_result"
    }
   ],
   "source": [
    "df_pandas.dtypes"
   ]
  },
  {
   "cell_type": "code",
   "execution_count": 9,
   "id": "b18e823b-0870-428a-b943-14eb966edd31",
   "metadata": {},
   "outputs": [
    {
     "data": {
      "text/plain": [
       "StructType([StructField('hvfhs_license_num', StringType(), True), StructField('dispatching_base_num', StringType(), True), StructField('pickup_datetime', StringType(), True), StructField('dropoff_datetime', StringType(), True), StructField('PULocationID', LongType(), True), StructField('DOLocationID', LongType(), True), StructField('SR_Flag', DoubleType(), True)])"
      ]
     },
     "execution_count": 9,
     "metadata": {},
     "output_type": "execute_result"
    }
   ],
   "source": [
    "# Create spark dataframe\n",
    "spark.createDataFrame(df_pandas).schema"
   ]
  },
  {
   "cell_type": "code",
   "execution_count": 4,
   "id": "280f5bf9-4f2d-4bef-89d8-a8357108b653",
   "metadata": {},
   "outputs": [],
   "source": [
    "from pyspark.sql import types"
   ]
  },
  {
   "cell_type": "code",
   "execution_count": 11,
   "id": "bb043cb2-82b6-4cda-a04a-832f930a135d",
   "metadata": {},
   "outputs": [],
   "source": [
    "schema = types.StructType([\n",
    "    types.StructField('hvfhs_license_num', types.StringType(), True), \n",
    "types.StructField('dispatching_base_num', types.StringType(), True), \n",
    "types.StructField('pickup_datetime', types.TimestampType(), True), \n",
    "types.StructField('dropoff_datetime', types.TimestampType(), True), \n",
    "types.StructField('PULocationID', types.IntegerType(), True), \n",
    "types.StructField('DOLocationID', types.IntegerType(), True), \n",
    "types.StructField('SR_Flag', types.StringType(), True)\n",
    "])"
   ]
  },
  {
   "cell_type": "code",
   "execution_count": 12,
   "id": "828ff95a-f5cd-46c7-8832-bb5b73a9c8c5",
   "metadata": {},
   "outputs": [],
   "source": [
    "df = spark.read \\\n",
    "    .option(\"header\", \"true\") \\\n",
    "    .schema(schema) \\\n",
    "    .csv('fhvhv_tripdata_2021-01.csv')"
   ]
  },
  {
   "cell_type": "code",
   "execution_count": 13,
   "id": "c6bbe0ab-0288-4668-a1a6-8b84d2c2fc34",
   "metadata": {},
   "outputs": [
    {
     "data": {
      "text/plain": [
       "[Row(hvfhs_license_num='HV0003', dispatching_base_num='B02682', pickup_datetime=datetime.datetime(2021, 1, 1, 0, 33, 44), dropoff_datetime=datetime.datetime(2021, 1, 1, 0, 49, 7), PULocationID=230, DOLocationID=166, SR_Flag=None),\n",
       " Row(hvfhs_license_num='HV0003', dispatching_base_num='B02682', pickup_datetime=datetime.datetime(2021, 1, 1, 0, 55, 19), dropoff_datetime=datetime.datetime(2021, 1, 1, 1, 18, 21), PULocationID=152, DOLocationID=167, SR_Flag=None),\n",
       " Row(hvfhs_license_num='HV0003', dispatching_base_num='B02764', pickup_datetime=datetime.datetime(2021, 1, 1, 0, 23, 56), dropoff_datetime=datetime.datetime(2021, 1, 1, 0, 38, 5), PULocationID=233, DOLocationID=142, SR_Flag=None),\n",
       " Row(hvfhs_license_num='HV0003', dispatching_base_num='B02764', pickup_datetime=datetime.datetime(2021, 1, 1, 0, 42, 51), dropoff_datetime=datetime.datetime(2021, 1, 1, 0, 45, 50), PULocationID=142, DOLocationID=143, SR_Flag=None),\n",
       " Row(hvfhs_license_num='HV0003', dispatching_base_num='B02764', pickup_datetime=datetime.datetime(2021, 1, 1, 0, 48, 14), dropoff_datetime=datetime.datetime(2021, 1, 1, 1, 8, 42), PULocationID=143, DOLocationID=78, SR_Flag=None),\n",
       " Row(hvfhs_license_num='HV0005', dispatching_base_num='B02510', pickup_datetime=datetime.datetime(2021, 1, 1, 0, 6, 59), dropoff_datetime=datetime.datetime(2021, 1, 1, 0, 43, 1), PULocationID=88, DOLocationID=42, SR_Flag=None),\n",
       " Row(hvfhs_license_num='HV0005', dispatching_base_num='B02510', pickup_datetime=datetime.datetime(2021, 1, 1, 0, 50), dropoff_datetime=datetime.datetime(2021, 1, 1, 1, 4, 57), PULocationID=42, DOLocationID=151, SR_Flag=None),\n",
       " Row(hvfhs_license_num='HV0003', dispatching_base_num='B02764', pickup_datetime=datetime.datetime(2021, 1, 1, 0, 14, 30), dropoff_datetime=datetime.datetime(2021, 1, 1, 0, 50, 27), PULocationID=71, DOLocationID=226, SR_Flag=None),\n",
       " Row(hvfhs_license_num='HV0003', dispatching_base_num='B02875', pickup_datetime=datetime.datetime(2021, 1, 1, 0, 22, 54), dropoff_datetime=datetime.datetime(2021, 1, 1, 0, 30, 20), PULocationID=112, DOLocationID=255, SR_Flag=None),\n",
       " Row(hvfhs_license_num='HV0003', dispatching_base_num='B02875', pickup_datetime=datetime.datetime(2021, 1, 1, 0, 40, 12), dropoff_datetime=datetime.datetime(2021, 1, 1, 0, 53, 31), PULocationID=255, DOLocationID=232, SR_Flag=None)]"
      ]
     },
     "execution_count": 13,
     "metadata": {},
     "output_type": "execute_result"
    }
   ],
   "source": [
    "df.head(10)"
   ]
  },
  {
   "cell_type": "code",
   "execution_count": 29,
   "id": "3c06f8c5-c67e-4d2a-9d9e-e5dd73d3da2b",
   "metadata": {},
   "outputs": [],
   "source": [
    "df = df.repartition(24)"
   ]
  },
  {
   "cell_type": "code",
   "execution_count": 30,
   "id": "cf2bb387-e7ae-4dcc-a5d9-37cf923c8d67",
   "metadata": {},
   "outputs": [],
   "source": [
    "df.write.parquet('fhvhv/2021/01/', mode = \"overwrite\")"
   ]
  },
  {
   "cell_type": "code",
   "execution_count": 5,
   "id": "36d5d6fe-220e-47ab-90f4-0e36528b14b9",
   "metadata": {},
   "outputs": [],
   "source": [
    "df = spark.read.parquet(\"fhvhv/2021/01/\")"
   ]
  },
  {
   "cell_type": "code",
   "execution_count": 12,
   "id": "ceef78cb-bfdd-4616-b8c0-503bd6f1c192",
   "metadata": {},
   "outputs": [
    {
     "name": "stdout",
     "output_type": "stream",
     "text": [
      "+-----------------+--------------------+-------------------+-------------------+------------+------------+-------+\n",
      "|hvfhs_license_num|dispatching_base_num|    pickup_datetime|   dropoff_datetime|PULocationID|DOLocationID|SR_Flag|\n",
      "+-----------------+--------------------+-------------------+-------------------+------------+------------+-------+\n",
      "|           HV0003|              B02765|2021-01-01 11:42:02|2021-01-01 12:00:51|          85|          11|   null|\n",
      "|           HV0003|              B02869|2021-01-01 03:31:07|2021-01-01 03:38:10|         129|          82|   null|\n",
      "|           HV0003|              B02872|2021-01-01 17:59:21|2021-01-01 18:17:29|          14|          26|   null|\n",
      "|           HV0003|              B02869|2021-01-01 21:18:30|2021-01-01 21:27:55|          39|          39|   null|\n",
      "|           HV0003|              B02879|2021-01-01 21:58:38|2021-01-01 22:05:07|          20|          20|   null|\n",
      "|           HV0003|              B02877|2021-01-02 17:50:47|2021-01-02 18:12:24|         236|         220|   null|\n",
      "|           HV0003|              B02765|2021-01-01 03:56:16|2021-01-01 04:00:29|          31|          32|   null|\n",
      "|           HV0003|              B02871|2021-01-01 19:28:55|2021-01-01 19:34:47|          36|          36|   null|\n",
      "|           HV0003|              B02887|2021-01-01 02:38:48|2021-01-01 02:51:07|         260|           7|   null|\n",
      "|           HV0005|              B02510|2021-01-02 03:11:21|2021-01-02 03:18:25|          92|         171|   null|\n",
      "|           HV0003|              B02764|2021-01-02 22:15:52|2021-01-02 22:21:57|         158|         125|   null|\n",
      "|           HV0005|              B02510|2021-01-02 12:58:21|2021-01-02 13:23:17|         114|          14|   null|\n",
      "|           HV0003|              B02869|2021-01-01 00:20:03|2021-01-01 01:03:30|          32|          42|   null|\n",
      "|           HV0005|              B02510|2021-01-02 22:10:09|2021-01-02 22:21:26|         100|         163|   null|\n",
      "|           HV0003|              B02765|2021-01-01 02:58:35|2021-01-01 03:15:43|          61|          37|   null|\n",
      "|           HV0003|              B02835|2021-01-01 02:46:24|2021-01-01 03:16:42|          63|          42|   null|\n",
      "|           HV0003|              B02765|2021-01-02 00:15:48|2021-01-02 00:42:57|          48|         258|   null|\n",
      "|           HV0003|              B02872|2021-01-01 07:50:22|2021-01-01 08:00:22|         260|         173|   null|\n",
      "|           HV0003|              B02764|2021-01-01 05:18:29|2021-01-01 05:46:38|         225|         265|   null|\n",
      "|           HV0005|              B02510|2021-01-01 08:14:42|2021-01-01 08:25:56|         142|         137|   null|\n",
      "+-----------------+--------------------+-------------------+-------------------+------------+------------+-------+\n",
      "only showing top 20 rows\n",
      "\n"
     ]
    }
   ],
   "source": [
    "df.show()"
   ]
  },
  {
   "cell_type": "code",
   "execution_count": 6,
   "id": "ae4925a3-fcdd-4eba-97ec-caa480b91918",
   "metadata": {},
   "outputs": [
    {
     "data": {
      "text/plain": [
       "DataFrame[hvfhs_license_num: string, dispatching_base_num: string, pickup_datetime: timestamp, dropoff_datetime: timestamp, PULocationID: int, DOLocationID: int, SR_Flag: string]"
      ]
     },
     "execution_count": 6,
     "metadata": {},
     "output_type": "execute_result"
    }
   ],
   "source": [
    "df"
   ]
  },
  {
   "cell_type": "code",
   "execution_count": 7,
   "id": "b10ae453-5f4f-43b0-8240-d7b6104bbddd",
   "metadata": {},
   "outputs": [
    {
     "name": "stdout",
     "output_type": "stream",
     "text": [
      "root\n",
      " |-- hvfhs_license_num: string (nullable = true)\n",
      " |-- dispatching_base_num: string (nullable = true)\n",
      " |-- pickup_datetime: timestamp (nullable = true)\n",
      " |-- dropoff_datetime: timestamp (nullable = true)\n",
      " |-- PULocationID: integer (nullable = true)\n",
      " |-- DOLocationID: integer (nullable = true)\n",
      " |-- SR_Flag: string (nullable = true)\n",
      "\n"
     ]
    }
   ],
   "source": [
    "df.printSchema()"
   ]
  },
  {
   "cell_type": "code",
   "execution_count": 7,
   "id": "e23006c1-c113-4ecb-9445-69d0a8914e1b",
   "metadata": {},
   "outputs": [
    {
     "name": "stdout",
     "output_type": "stream",
     "text": [
      "+-------------------+-------------------+------------+------------+\n",
      "|    pickup_datetime|   dropoff_datetime|PULocationID|DOLocationID|\n",
      "+-------------------+-------------------+------------+------------+\n",
      "|2021-01-01 11:42:02|2021-01-01 12:00:51|          85|          11|\n",
      "|2021-01-01 03:31:07|2021-01-01 03:38:10|         129|          82|\n",
      "|2021-01-01 17:59:21|2021-01-01 18:17:29|          14|          26|\n",
      "|2021-01-01 21:18:30|2021-01-01 21:27:55|          39|          39|\n",
      "|2021-01-01 21:58:38|2021-01-01 22:05:07|          20|          20|\n",
      "|2021-01-02 17:50:47|2021-01-02 18:12:24|         236|         220|\n",
      "|2021-01-01 03:56:16|2021-01-01 04:00:29|          31|          32|\n",
      "|2021-01-01 19:28:55|2021-01-01 19:34:47|          36|          36|\n",
      "|2021-01-01 02:38:48|2021-01-01 02:51:07|         260|           7|\n",
      "|2021-01-02 22:15:52|2021-01-02 22:21:57|         158|         125|\n",
      "|2021-01-01 00:20:03|2021-01-01 01:03:30|          32|          42|\n",
      "|2021-01-01 02:58:35|2021-01-01 03:15:43|          61|          37|\n",
      "|2021-01-01 02:46:24|2021-01-01 03:16:42|          63|          42|\n",
      "|2021-01-02 00:15:48|2021-01-02 00:42:57|          48|         258|\n",
      "|2021-01-01 07:50:22|2021-01-01 08:00:22|         260|         173|\n",
      "|2021-01-01 05:18:29|2021-01-01 05:46:38|         225|         265|\n",
      "|2021-01-02 00:18:18|2021-01-02 00:29:03|          18|         259|\n",
      "|2021-01-01 17:25:11|2021-01-01 18:00:50|         132|          48|\n",
      "|2021-01-03 00:09:05|2021-01-03 00:17:20|         174|         136|\n",
      "|2021-01-01 02:35:23|2021-01-01 02:47:54|          74|          94|\n",
      "+-------------------+-------------------+------------+------------+\n",
      "only showing top 20 rows\n",
      "\n"
     ]
    }
   ],
   "source": [
    "df.select(\"pickup_datetime\", \"dropoff_datetime\",\"PULocationID\", \"DOLocationID\" )\\\n",
    "  .filter(df.hvfhs_license_num == \"HV0003\")\\\n",
    "  .show()"
   ]
  },
  {
   "cell_type": "code",
   "execution_count": 9,
   "id": "b753c9e4-0ab3-4a59-b1e0-0fa56ca4e271",
   "metadata": {},
   "outputs": [
    {
     "data": {
      "text/plain": [
       "[Row(hvfhs_license_num='HV0003', dispatching_base_num='B02765', pickup_datetime=datetime.datetime(2021, 1, 1, 11, 42, 2), dropoff_datetime=datetime.datetime(2021, 1, 1, 12, 0, 51), PULocationID=85, DOLocationID=11, SR_Flag=None),\n",
       " Row(hvfhs_license_num='HV0003', dispatching_base_num='B02869', pickup_datetime=datetime.datetime(2021, 1, 1, 3, 31, 7), dropoff_datetime=datetime.datetime(2021, 1, 1, 3, 38, 10), PULocationID=129, DOLocationID=82, SR_Flag=None),\n",
       " Row(hvfhs_license_num='HV0003', dispatching_base_num='B02872', pickup_datetime=datetime.datetime(2021, 1, 1, 17, 59, 21), dropoff_datetime=datetime.datetime(2021, 1, 1, 18, 17, 29), PULocationID=14, DOLocationID=26, SR_Flag=None),\n",
       " Row(hvfhs_license_num='HV0003', dispatching_base_num='B02869', pickup_datetime=datetime.datetime(2021, 1, 1, 21, 18, 30), dropoff_datetime=datetime.datetime(2021, 1, 1, 21, 27, 55), PULocationID=39, DOLocationID=39, SR_Flag=None),\n",
       " Row(hvfhs_license_num='HV0003', dispatching_base_num='B02879', pickup_datetime=datetime.datetime(2021, 1, 1, 21, 58, 38), dropoff_datetime=datetime.datetime(2021, 1, 1, 22, 5, 7), PULocationID=20, DOLocationID=20, SR_Flag=None),\n",
       " Row(hvfhs_license_num='HV0003', dispatching_base_num='B02877', pickup_datetime=datetime.datetime(2021, 1, 2, 17, 50, 47), dropoff_datetime=datetime.datetime(2021, 1, 2, 18, 12, 24), PULocationID=236, DOLocationID=220, SR_Flag=None),\n",
       " Row(hvfhs_license_num='HV0003', dispatching_base_num='B02765', pickup_datetime=datetime.datetime(2021, 1, 1, 3, 56, 16), dropoff_datetime=datetime.datetime(2021, 1, 1, 4, 0, 29), PULocationID=31, DOLocationID=32, SR_Flag=None),\n",
       " Row(hvfhs_license_num='HV0003', dispatching_base_num='B02871', pickup_datetime=datetime.datetime(2021, 1, 1, 19, 28, 55), dropoff_datetime=datetime.datetime(2021, 1, 1, 19, 34, 47), PULocationID=36, DOLocationID=36, SR_Flag=None),\n",
       " Row(hvfhs_license_num='HV0003', dispatching_base_num='B02887', pickup_datetime=datetime.datetime(2021, 1, 1, 2, 38, 48), dropoff_datetime=datetime.datetime(2021, 1, 1, 2, 51, 7), PULocationID=260, DOLocationID=7, SR_Flag=None),\n",
       " Row(hvfhs_license_num='HV0005', dispatching_base_num='B02510', pickup_datetime=datetime.datetime(2021, 1, 2, 3, 11, 21), dropoff_datetime=datetime.datetime(2021, 1, 2, 3, 18, 25), PULocationID=92, DOLocationID=171, SR_Flag=None)]"
      ]
     },
     "execution_count": 9,
     "metadata": {},
     "output_type": "execute_result"
    }
   ],
   "source": [
    "df.head(10)"
   ]
  },
  {
   "cell_type": "code",
   "execution_count": 6,
   "id": "d0e81da2-9416-4d77-af17-7c2150b29595",
   "metadata": {},
   "outputs": [],
   "source": [
    "from pyspark.sql import functions as F"
   ]
  },
  {
   "cell_type": "code",
   "execution_count": 9,
   "id": "e5695cac-77b7-4b7c-86e8-c5374c05dab6",
   "metadata": {},
   "outputs": [
    {
     "name": "stdout",
     "output_type": "stream",
     "text": [
      "+-----------+------------+------------+------------+\n",
      "|pickup_date|dropoff_date|PULocationID|DOLocationID|\n",
      "+-----------+------------+------------+------------+\n",
      "| 2021-01-01|  2021-01-01|          85|          11|\n",
      "| 2021-01-01|  2021-01-01|         129|          82|\n",
      "| 2021-01-01|  2021-01-01|          14|          26|\n",
      "| 2021-01-01|  2021-01-01|          39|          39|\n",
      "| 2021-01-01|  2021-01-01|          20|          20|\n",
      "| 2021-01-02|  2021-01-02|         236|         220|\n",
      "| 2021-01-01|  2021-01-01|          31|          32|\n",
      "| 2021-01-01|  2021-01-01|          36|          36|\n",
      "| 2021-01-01|  2021-01-01|         260|           7|\n",
      "| 2021-01-02|  2021-01-02|          92|         171|\n",
      "| 2021-01-02|  2021-01-02|         158|         125|\n",
      "| 2021-01-02|  2021-01-02|         114|          14|\n",
      "| 2021-01-01|  2021-01-01|          32|          42|\n",
      "| 2021-01-02|  2021-01-02|         100|         163|\n",
      "| 2021-01-01|  2021-01-01|          61|          37|\n",
      "| 2021-01-01|  2021-01-01|          63|          42|\n",
      "| 2021-01-02|  2021-01-02|          48|         258|\n",
      "| 2021-01-01|  2021-01-01|         260|         173|\n",
      "| 2021-01-01|  2021-01-01|         225|         265|\n",
      "| 2021-01-01|  2021-01-01|         142|         137|\n",
      "+-----------+------------+------------+------------+\n",
      "only showing top 20 rows\n",
      "\n"
     ]
    }
   ],
   "source": [
    "df\\\n",
    "    .withColumn(\"pickup_date\", F.to_date(df.pickup_datetime))\\\n",
    "    .withColumn(\"dropoff_date\", F.to_date(df.dropoff_datetime))\\\n",
    "    .select(\"pickup_date\", \"dropoff_date\",\"PULocationID\", \"DOLocationID\" )\\\n",
    "    .show()"
   ]
  },
  {
   "cell_type": "code",
   "execution_count": 10,
   "id": "d4c56594-bf11-45d7-b0d7-229cf8905ce3",
   "metadata": {},
   "outputs": [
    {
     "name": "stdout",
     "output_type": "stream",
     "text": [
      "+-----------------+--------------------+-------------------+-------------------+------------+------------+-------+\n",
      "|hvfhs_license_num|dispatching_base_num|    pickup_datetime|   dropoff_datetime|PULocationID|DOLocationID|SR_Flag|\n",
      "+-----------------+--------------------+-------------------+-------------------+------------+------------+-------+\n",
      "|           HV0003|              B02765|2021-01-01 11:42:02|2021-01-01 12:00:51|          85|          11|   null|\n",
      "|           HV0003|              B02869|2021-01-01 03:31:07|2021-01-01 03:38:10|         129|          82|   null|\n",
      "|           HV0003|              B02872|2021-01-01 17:59:21|2021-01-01 18:17:29|          14|          26|   null|\n",
      "|           HV0003|              B02869|2021-01-01 21:18:30|2021-01-01 21:27:55|          39|          39|   null|\n",
      "|           HV0003|              B02879|2021-01-01 21:58:38|2021-01-01 22:05:07|          20|          20|   null|\n",
      "|           HV0003|              B02877|2021-01-02 17:50:47|2021-01-02 18:12:24|         236|         220|   null|\n",
      "|           HV0003|              B02765|2021-01-01 03:56:16|2021-01-01 04:00:29|          31|          32|   null|\n",
      "|           HV0003|              B02871|2021-01-01 19:28:55|2021-01-01 19:34:47|          36|          36|   null|\n",
      "|           HV0003|              B02887|2021-01-01 02:38:48|2021-01-01 02:51:07|         260|           7|   null|\n",
      "|           HV0005|              B02510|2021-01-02 03:11:21|2021-01-02 03:18:25|          92|         171|   null|\n",
      "|           HV0003|              B02764|2021-01-02 22:15:52|2021-01-02 22:21:57|         158|         125|   null|\n",
      "|           HV0005|              B02510|2021-01-02 12:58:21|2021-01-02 13:23:17|         114|          14|   null|\n",
      "|           HV0003|              B02869|2021-01-01 00:20:03|2021-01-01 01:03:30|          32|          42|   null|\n",
      "|           HV0005|              B02510|2021-01-02 22:10:09|2021-01-02 22:21:26|         100|         163|   null|\n",
      "|           HV0003|              B02765|2021-01-01 02:58:35|2021-01-01 03:15:43|          61|          37|   null|\n",
      "|           HV0003|              B02835|2021-01-01 02:46:24|2021-01-01 03:16:42|          63|          42|   null|\n",
      "|           HV0003|              B02765|2021-01-02 00:15:48|2021-01-02 00:42:57|          48|         258|   null|\n",
      "|           HV0003|              B02872|2021-01-01 07:50:22|2021-01-01 08:00:22|         260|         173|   null|\n",
      "|           HV0003|              B02764|2021-01-01 05:18:29|2021-01-01 05:46:38|         225|         265|   null|\n",
      "|           HV0005|              B02510|2021-01-01 08:14:42|2021-01-01 08:25:56|         142|         137|   null|\n",
      "+-----------------+--------------------+-------------------+-------------------+------------+------------+-------+\n",
      "only showing top 20 rows\n",
      "\n"
     ]
    }
   ],
   "source": [
    "df.show()"
   ]
  },
  {
   "cell_type": "code",
   "execution_count": 7,
   "id": "dbd161e4-ddc1-4601-85e7-c28e13699701",
   "metadata": {},
   "outputs": [],
   "source": [
    "def crazy_stuff(base_num):\n",
    "    num = int(base_num[1:])\n",
    "    if num % 7 == 0:\n",
    "        return f's/{num:03x}'\n",
    "    elif num % 3 == 0:\n",
    "        return f'a/{num:03x}'\n",
    "    else:\n",
    "        return f'e/{num:03x}'"
   ]
  },
  {
   "cell_type": "code",
   "execution_count": 11,
   "id": "634f7988-9222-454d-a2c9-5f39b27bad67",
   "metadata": {},
   "outputs": [
    {
     "data": {
      "text/plain": [
       "'s/b13'"
      ]
     },
     "execution_count": 11,
     "metadata": {},
     "output_type": "execute_result"
    }
   ],
   "source": [
    "crazy_stuff(\"B02835\")"
   ]
  },
  {
   "cell_type": "code",
   "execution_count": 9,
   "id": "465d09d2-d503-47fb-9f6d-3c8f8e48c45c",
   "metadata": {},
   "outputs": [],
   "source": [
    "crazy_stuff_udf = F.udf(crazy_stuff, returnType=types.StringType())"
   ]
  },
  {
   "cell_type": "code",
   "execution_count": 10,
   "id": "fda2fc8d-b4c9-4fa1-9a4c-8f34a9829e6d",
   "metadata": {},
   "outputs": [
    {
     "name": "stdout",
     "output_type": "stream",
     "text": [
      "+-----------------+--------------------+-------------------+-------------------+------------+------------+-------+-------+\n",
      "|hvfhs_license_num|dispatching_base_num|    pickup_datetime|   dropoff_datetime|PULocationID|DOLocationID|SR_Flag|base_id|\n",
      "+-----------------+--------------------+-------------------+-------------------+------------+------------+-------+-------+\n",
      "|           HV0003|              B02765|2021-01-01 11:42:02|2021-01-01 12:00:51|          85|          11|   null|  s/acd|\n",
      "|           HV0003|              B02869|2021-01-01 03:31:07|2021-01-01 03:38:10|         129|          82|   null|  e/b35|\n",
      "|           HV0003|              B02872|2021-01-01 17:59:21|2021-01-01 18:17:29|          14|          26|   null|  e/b38|\n",
      "|           HV0003|              B02869|2021-01-01 21:18:30|2021-01-01 21:27:55|          39|          39|   null|  e/b35|\n",
      "|           HV0003|              B02879|2021-01-01 21:58:38|2021-01-01 22:05:07|          20|          20|   null|  e/b3f|\n",
      "|           HV0003|              B02877|2021-01-02 17:50:47|2021-01-02 18:12:24|         236|         220|   null|  s/b3d|\n",
      "|           HV0003|              B02765|2021-01-01 03:56:16|2021-01-01 04:00:29|          31|          32|   null|  s/acd|\n",
      "|           HV0003|              B02871|2021-01-01 19:28:55|2021-01-01 19:34:47|          36|          36|   null|  a/b37|\n",
      "|           HV0003|              B02887|2021-01-01 02:38:48|2021-01-01 02:51:07|         260|           7|   null|  e/b47|\n",
      "|           HV0005|              B02510|2021-01-02 03:11:21|2021-01-02 03:18:25|          92|         171|   null|  e/9ce|\n",
      "|           HV0003|              B02764|2021-01-02 22:15:52|2021-01-02 22:21:57|         158|         125|   null|  e/acc|\n",
      "|           HV0005|              B02510|2021-01-02 12:58:21|2021-01-02 13:23:17|         114|          14|   null|  e/9ce|\n",
      "|           HV0003|              B02869|2021-01-01 00:20:03|2021-01-01 01:03:30|          32|          42|   null|  e/b35|\n",
      "|           HV0005|              B02510|2021-01-02 22:10:09|2021-01-02 22:21:26|         100|         163|   null|  e/9ce|\n",
      "|           HV0003|              B02765|2021-01-01 02:58:35|2021-01-01 03:15:43|          61|          37|   null|  s/acd|\n",
      "|           HV0003|              B02835|2021-01-01 02:46:24|2021-01-01 03:16:42|          63|          42|   null|  s/b13|\n",
      "|           HV0003|              B02765|2021-01-02 00:15:48|2021-01-02 00:42:57|          48|         258|   null|  s/acd|\n",
      "|           HV0003|              B02872|2021-01-01 07:50:22|2021-01-01 08:00:22|         260|         173|   null|  e/b38|\n",
      "|           HV0003|              B02764|2021-01-01 05:18:29|2021-01-01 05:46:38|         225|         265|   null|  e/acc|\n",
      "|           HV0005|              B02510|2021-01-01 08:14:42|2021-01-01 08:25:56|         142|         137|   null|  e/9ce|\n",
      "+-----------------+--------------------+-------------------+-------------------+------------+------------+-------+-------+\n",
      "only showing top 20 rows\n",
      "\n"
     ]
    }
   ],
   "source": [
    "df\\\n",
    "    .withColumn(\"base_id\",  crazy_stuff_udf(df.dispatching_base_num))\\\n",
    "    .show()"
   ]
  },
  {
   "cell_type": "code",
   "execution_count": 4,
   "id": "a210c3c0-186b-44e4-a848-26ff71ab19d1",
   "metadata": {},
   "outputs": [],
   "source": [
    "import findspark\n",
    "findspark.init()"
   ]
  },
  {
   "cell_type": "code",
   "execution_count": null,
   "id": "7beeffed-21dc-4e21-9181-842f38761c2a",
   "metadata": {},
   "outputs": [],
   "source": []
  }
 ],
 "metadata": {
  "kernelspec": {
   "display_name": "Python 3 (ipykernel)",
   "language": "python",
   "name": "python3"
  },
  "language_info": {
   "codemirror_mode": {
    "name": "ipython",
    "version": 3
   },
   "file_extension": ".py",
   "mimetype": "text/x-python",
   "name": "python",
   "nbconvert_exporter": "python",
   "pygments_lexer": "ipython3",
   "version": "3.11.8"
  }
 },
 "nbformat": 4,
 "nbformat_minor": 5
}
