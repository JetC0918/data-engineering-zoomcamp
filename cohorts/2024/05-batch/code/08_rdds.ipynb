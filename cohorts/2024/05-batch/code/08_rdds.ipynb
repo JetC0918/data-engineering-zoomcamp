{
 "cells": [
  {
   "cell_type": "markdown",
   "id": "cf668164-948c-4ebc-8333-a0a612dfb66b",
   "metadata": {},
   "source": [
    "## RDD - Resilient Distributed Datasets"
   ]
  },
  {
   "cell_type": "code",
   "execution_count": 2,
   "id": "ff1101c5-cee0-4713-b787-07991e7af2de",
   "metadata": {},
   "outputs": [],
   "source": [
    "import pyspark\n",
    "from pyspark.sql import SparkSession\n",
    "\n",
    "spark = SparkSession.builder \\\n",
    "    .master(\"local[*]\") \\\n",
    "    .appName('test') \\\n",
    "    .getOrCreate()"
   ]
  },
  {
   "cell_type": "code",
   "execution_count": 3,
   "id": "e195a546-9a41-49f2-b0a7-7be08ac55a66",
   "metadata": {},
   "outputs": [],
   "source": [
    "df_green = spark.read.parquet('data/pq/green/*/*')"
   ]
  },
  {
   "cell_type": "markdown",
   "id": "91825c27-4c85-4964-8c7e-76d0c3a1d3ca",
   "metadata": {},
   "source": [
    "```\n",
    "SELECT \n",
    "    -- Reveneue grouping \n",
    "    date_trunc('hour', lpep_pickup_datetime) AS hour,  \n",
    "    PULocationID AS  zone,\n",
    "\n",
    "    -- Revenue calculation  \n",
    "    SUM(total_amount) AS revenue_monthly_total_amount,\n",
    "    COUNT(1) AS number_records\n",
    " \n",
    "FROM\n",
    "    green\n",
    "WHERE\n",
    "    lpep_pickup_datetime >='2020-01-01 00:00:00'\n",
    "GROUP BY\n",
    "    1, 2 \n",
    "ORDER BY\n",
    "    1,2\n",
    "```"
   ]
  },
  {
   "cell_type": "code",
   "execution_count": 4,
   "id": "4ad2c27c-d6ae-4683-b67a-e0cad8984704",
   "metadata": {},
   "outputs": [
    {
     "name": "stdout",
     "output_type": "stream",
     "text": [
      "+--------+--------------------+---------------------+------------------+----------+------------+------------+---------------+-------------+-----------+-----+-------+----------+------------+---------+---------------------+------------+------------+---------+--------------------+\n",
      "|VendorID|lpep_pickup_datetime|lpep_dropoff_datetime|store_and_fwd_flag|RatecodeID|PULocationID|DOLocationID|passenger_count|trip_distance|fare_amount|extra|mta_tax|tip_amount|tolls_amount|ehail_fee|improvement_surcharge|total_amount|payment_type|trip_type|congestion_surcharge|\n",
      "+--------+--------------------+---------------------+------------------+----------+------------+------------+---------------+-------------+-----------+-----+-------+----------+------------+---------+---------------------+------------+------------+---------+--------------------+\n",
      "|       2| 2020-01-14 13:28:09|  2020-01-14 13:35:19|                 N|         1|          74|          75|              1|         1.35|        7.0|  0.0|    0.5|      1.56|         0.0|     NULL|                  0.3|        9.36|           1|        1|                 0.0|\n",
      "|       2| 2020-01-28 12:11:44|  2020-01-28 12:25:21|                 N|         1|         129|         179|              1|         3.73|       13.5|  0.0|    0.5|       1.0|         0.0|     NULL|                  0.3|        15.3|           1|        1|                 0.0|\n",
      "|    NULL| 2020-01-04 11:38:00|  2020-01-04 12:11:00|              NULL|      NULL|          25|          41|           NULL|        11.19|      28.38|  0.0|    0.5|       0.0|         0.0|     NULL|                  0.0|       28.88|        NULL|     NULL|                NULL|\n",
      "|       2| 2020-01-30 10:03:36|  2020-01-30 10:09:55|                 N|         5|         182|         242|              1|         1.32|       12.0|  0.0|    0.0|       0.0|         0.0|     NULL|                  0.3|        12.3|           1|        2|                 0.0|\n",
      "|       1| 2020-01-30 20:56:17|  2020-01-30 21:00:18|                 N|         1|         210|         210|              1|          0.8|        5.0|  0.5|    0.5|       0.7|         0.0|     NULL|                  0.3|         7.0|           1|        1|                 0.0|\n",
      "|       2| 2020-01-06 14:40:15|  2020-01-06 14:51:55|                 N|         1|          33|          66|              1|         1.24|        8.5|  0.0|    0.5|       0.0|         0.0|     NULL|                  0.3|         9.3|           2|        1|                 0.0|\n",
      "|       2| 2020-01-09 18:01:49|  2020-01-09 18:05:28|                 N|         1|          42|         116|              1|         0.52|        4.5|  1.0|    0.5|       0.0|         0.0|     NULL|                  0.3|         6.3|           2|        1|                 0.0|\n",
      "|       2| 2020-01-29 04:39:21|  2020-01-29 04:42:02|                 N|         1|         116|         116|              1|         0.58|        4.5|  0.5|    0.5|      0.01|         0.0|     NULL|                  0.3|        5.81|           1|        1|                 0.0|\n",
      "|    NULL| 2020-01-09 15:01:00|  2020-01-09 15:28:00|              NULL|      NULL|         223|          92|           NULL|         6.79|      20.81|  0.0|    0.0|       0.0|         0.0|     NULL|                  0.3|       21.11|        NULL|     NULL|                NULL|\n",
      "|       2| 2020-01-31 08:32:25|  2020-01-31 09:27:29|                 N|         1|          55|          55|              1|         9.69|       37.5|  0.0|    0.5|       0.0|         0.0|     NULL|                  0.3|        38.3|           2|        1|                 0.0|\n",
      "|       2| 2020-01-15 19:24:18|  2020-01-15 19:30:00|                 N|         1|           7|         179|              1|         1.25|        6.0|  1.0|    0.5|       0.0|         0.0|     NULL|                  0.3|         7.8|           2|        1|                 0.0|\n",
      "|       2| 2020-01-03 15:26:19|  2020-01-03 15:31:51|                 N|         1|          41|          42|              1|         1.23|        6.0|  0.0|    0.5|       0.0|         0.0|     NULL|                  0.3|         6.8|           2|        1|                 0.0|\n",
      "|       2| 2020-01-03 19:48:18|  2020-01-03 20:00:22|                 N|         1|          74|          69|              1|         3.99|       13.5|  1.0|    0.5|       0.0|         0.0|     NULL|                  0.3|        15.3|           2|        1|                 0.0|\n",
      "|       2| 2020-01-30 16:52:16|  2020-01-30 16:55:48|                 N|         1|          33|          52|              1|         0.57|        4.5|  1.0|    0.5|       0.0|         0.0|     NULL|                  0.3|         6.3|           2|        1|                 0.0|\n",
      "|       1| 2020-01-14 08:47:20|  2020-01-14 09:01:40|                 N|         1|         166|          75|              1|          1.5|       10.5|  0.0|    0.5|       0.7|         0.0|     NULL|                  0.3|        12.0|           1|        1|                 0.0|\n",
      "|       2| 2020-01-15 16:42:33|  2020-01-15 16:43:29|                 N|         1|          38|          38|              1|         0.19|        3.0|  1.0|    0.5|       0.0|         0.0|     NULL|                  0.3|         4.8|           2|        1|                 0.0|\n",
      "|       2| 2020-01-17 22:44:53|  2020-01-17 22:54:46|                 N|         1|          83|         157|              1|         1.81|        9.0|  0.5|    0.5|       0.0|         0.0|     NULL|                  0.3|        10.3|           2|        1|                 0.0|\n",
      "|    NULL| 2020-01-05 00:35:00|  2020-01-05 00:43:00|              NULL|      NULL|          42|         244|           NULL|         1.49|        9.0|  0.0|    0.0|       0.0|         0.0|     NULL|                  0.3|         9.3|        NULL|     NULL|                NULL|\n",
      "|       2| 2020-01-14 18:56:54|  2020-01-14 19:02:29|                 N|         1|          75|         151|              1|         1.05|        6.0|  1.0|    0.5|      0.75|         0.0|     NULL|                  0.3|        8.55|           1|        1|                 0.0|\n",
      "|       2| 2020-01-01 16:10:02|  2020-01-01 16:20:32|                 N|         1|         134|         216|              1|         3.47|       11.5|  0.0|    0.5|      2.46|         0.0|     NULL|                  0.3|       14.76|           1|        1|                 0.0|\n",
      "+--------+--------------------+---------------------+------------------+----------+------------+------------+---------------+-------------+-----------+-----+-------+----------+------------+---------+---------------------+------------+------------+---------+--------------------+\n",
      "only showing top 20 rows\n",
      "\n"
     ]
    }
   ],
   "source": [
    "df_green.show()"
   ]
  },
  {
   "cell_type": "code",
   "execution_count": 5,
   "id": "8ebe6a52-4b16-44d6-91c5-8360df4cc6e1",
   "metadata": {},
   "outputs": [
    {
     "data": {
      "text/plain": [
       "MapPartitionsRDD[11] at javaToPython at NativeMethodAccessorImpl.java:0"
      ]
     },
     "execution_count": 5,
     "metadata": {},
     "output_type": "execute_result"
    }
   ],
   "source": [
    "df_green.rdd"
   ]
  },
  {
   "cell_type": "code",
   "execution_count": 6,
   "id": "89308112-35d2-461c-921b-4c981d5ec050",
   "metadata": {},
   "outputs": [
    {
     "data": {
      "text/plain": [
       "[Row(VendorID=2, lpep_pickup_datetime=datetime.datetime(2020, 1, 14, 13, 28, 9), lpep_dropoff_datetime=datetime.datetime(2020, 1, 14, 13, 35, 19), store_and_fwd_flag='N', RatecodeID=1, PULocationID=74, DOLocationID=75, passenger_count=1, trip_distance=1.35, fare_amount=7.0, extra=0.0, mta_tax=0.5, tip_amount=1.56, tolls_amount=0.0, ehail_fee=None, improvement_surcharge=0.3, total_amount=9.36, payment_type=1, trip_type=1, congestion_surcharge=0.0),\n",
       " Row(VendorID=2, lpep_pickup_datetime=datetime.datetime(2020, 1, 28, 12, 11, 44), lpep_dropoff_datetime=datetime.datetime(2020, 1, 28, 12, 25, 21), store_and_fwd_flag='N', RatecodeID=1, PULocationID=129, DOLocationID=179, passenger_count=1, trip_distance=3.73, fare_amount=13.5, extra=0.0, mta_tax=0.5, tip_amount=1.0, tolls_amount=0.0, ehail_fee=None, improvement_surcharge=0.3, total_amount=15.3, payment_type=1, trip_type=1, congestion_surcharge=0.0),\n",
       " Row(VendorID=None, lpep_pickup_datetime=datetime.datetime(2020, 1, 4, 11, 38), lpep_dropoff_datetime=datetime.datetime(2020, 1, 4, 12, 11), store_and_fwd_flag=None, RatecodeID=None, PULocationID=25, DOLocationID=41, passenger_count=None, trip_distance=11.19, fare_amount=28.38, extra=0.0, mta_tax=0.5, tip_amount=0.0, tolls_amount=0.0, ehail_fee=None, improvement_surcharge=0.0, total_amount=28.88, payment_type=None, trip_type=None, congestion_surcharge=None),\n",
       " Row(VendorID=2, lpep_pickup_datetime=datetime.datetime(2020, 1, 30, 10, 3, 36), lpep_dropoff_datetime=datetime.datetime(2020, 1, 30, 10, 9, 55), store_and_fwd_flag='N', RatecodeID=5, PULocationID=182, DOLocationID=242, passenger_count=1, trip_distance=1.32, fare_amount=12.0, extra=0.0, mta_tax=0.0, tip_amount=0.0, tolls_amount=0.0, ehail_fee=None, improvement_surcharge=0.3, total_amount=12.3, payment_type=1, trip_type=2, congestion_surcharge=0.0),\n",
       " Row(VendorID=1, lpep_pickup_datetime=datetime.datetime(2020, 1, 30, 20, 56, 17), lpep_dropoff_datetime=datetime.datetime(2020, 1, 30, 21, 0, 18), store_and_fwd_flag='N', RatecodeID=1, PULocationID=210, DOLocationID=210, passenger_count=1, trip_distance=0.8, fare_amount=5.0, extra=0.5, mta_tax=0.5, tip_amount=0.7, tolls_amount=0.0, ehail_fee=None, improvement_surcharge=0.3, total_amount=7.0, payment_type=1, trip_type=1, congestion_surcharge=0.0),\n",
       " Row(VendorID=2, lpep_pickup_datetime=datetime.datetime(2020, 1, 6, 14, 40, 15), lpep_dropoff_datetime=datetime.datetime(2020, 1, 6, 14, 51, 55), store_and_fwd_flag='N', RatecodeID=1, PULocationID=33, DOLocationID=66, passenger_count=1, trip_distance=1.24, fare_amount=8.5, extra=0.0, mta_tax=0.5, tip_amount=0.0, tolls_amount=0.0, ehail_fee=None, improvement_surcharge=0.3, total_amount=9.3, payment_type=2, trip_type=1, congestion_surcharge=0.0),\n",
       " Row(VendorID=2, lpep_pickup_datetime=datetime.datetime(2020, 1, 9, 18, 1, 49), lpep_dropoff_datetime=datetime.datetime(2020, 1, 9, 18, 5, 28), store_and_fwd_flag='N', RatecodeID=1, PULocationID=42, DOLocationID=116, passenger_count=1, trip_distance=0.52, fare_amount=4.5, extra=1.0, mta_tax=0.5, tip_amount=0.0, tolls_amount=0.0, ehail_fee=None, improvement_surcharge=0.3, total_amount=6.3, payment_type=2, trip_type=1, congestion_surcharge=0.0),\n",
       " Row(VendorID=2, lpep_pickup_datetime=datetime.datetime(2020, 1, 29, 4, 39, 21), lpep_dropoff_datetime=datetime.datetime(2020, 1, 29, 4, 42, 2), store_and_fwd_flag='N', RatecodeID=1, PULocationID=116, DOLocationID=116, passenger_count=1, trip_distance=0.58, fare_amount=4.5, extra=0.5, mta_tax=0.5, tip_amount=0.01, tolls_amount=0.0, ehail_fee=None, improvement_surcharge=0.3, total_amount=5.81, payment_type=1, trip_type=1, congestion_surcharge=0.0),\n",
       " Row(VendorID=None, lpep_pickup_datetime=datetime.datetime(2020, 1, 9, 15, 1), lpep_dropoff_datetime=datetime.datetime(2020, 1, 9, 15, 28), store_and_fwd_flag=None, RatecodeID=None, PULocationID=223, DOLocationID=92, passenger_count=None, trip_distance=6.79, fare_amount=20.81, extra=0.0, mta_tax=0.0, tip_amount=0.0, tolls_amount=0.0, ehail_fee=None, improvement_surcharge=0.3, total_amount=21.11, payment_type=None, trip_type=None, congestion_surcharge=None),\n",
       " Row(VendorID=2, lpep_pickup_datetime=datetime.datetime(2020, 1, 31, 8, 32, 25), lpep_dropoff_datetime=datetime.datetime(2020, 1, 31, 9, 27, 29), store_and_fwd_flag='N', RatecodeID=1, PULocationID=55, DOLocationID=55, passenger_count=1, trip_distance=9.69, fare_amount=37.5, extra=0.0, mta_tax=0.5, tip_amount=0.0, tolls_amount=0.0, ehail_fee=None, improvement_surcharge=0.3, total_amount=38.3, payment_type=2, trip_type=1, congestion_surcharge=0.0)]"
      ]
     },
     "execution_count": 6,
     "metadata": {},
     "output_type": "execute_result"
    }
   ],
   "source": [
    "df_green.rdd.take(10)"
   ]
  },
  {
   "cell_type": "markdown",
   "id": "56c32eb2-e48d-4ed6-a7e3-d81e1d5ef976",
   "metadata": {},
   "source": [
    "### SQL To Implement\n",
    "```\n",
    "SELECT \n",
    "    -- Reveneue grouping \n",
    "    date_trunc('hour', lpep_pickup_datetime) AS hour,  \n",
    "    PULocationID AS  zone,\n",
    "\n",
    "    -- Revenue calculation  \n",
    "    SUM(total_amount) AS revenue_monthly_total_amount,\n",
    "    COUNT(1) AS number_records\n",
    " \n",
    "FROM\n",
    "    green\n",
    "WHERE\n",
    "    lpep_pickup_datetime >='2020-01-01 00:00:00'\n",
    "GROUP BY\n",
    "    1, 2 \n",
    "ORDER BY\n",
    "    1,2\n",
    "```"
   ]
  },
  {
   "cell_type": "markdown",
   "id": "f43ce197-a4c9-4700-94c9-d0c962fbb6df",
   "metadata": {},
   "source": [
    "#### WHERE vs .filter()"
   ]
  },
  {
   "cell_type": "code",
   "execution_count": 16,
   "id": "6bf82252-cf3a-4da7-82cd-35409c33b88e",
   "metadata": {},
   "outputs": [],
   "source": [
    "rdd = df_green\\\n",
    "        .select( \"lpep_pickup_datetime\", 'PULocationID', 'total_amount')\\\n",
    "        .rdd "
   ]
  },
  {
   "cell_type": "code",
   "execution_count": 7,
   "id": "082b35bf-93e7-4a1e-ba7a-478f5c40ac78",
   "metadata": {},
   "outputs": [
    {
     "data": {
      "text/plain": [
       "[Row(VendorID=2, lpep_pickup_datetime=datetime.datetime(2020, 1, 14, 13, 28, 9), lpep_dropoff_datetime=datetime.datetime(2020, 1, 14, 13, 35, 19), store_and_fwd_flag='N', RatecodeID=1, PULocationID=74, DOLocationID=75, passenger_count=1, trip_distance=1.35, fare_amount=7.0, extra=0.0, mta_tax=0.5, tip_amount=1.56, tolls_amount=0.0, ehail_fee=None, improvement_surcharge=0.3, total_amount=9.36, payment_type=1, trip_type=1, congestion_surcharge=0.0),\n",
       " Row(VendorID=2, lpep_pickup_datetime=datetime.datetime(2020, 1, 28, 12, 11, 44), lpep_dropoff_datetime=datetime.datetime(2020, 1, 28, 12, 25, 21), store_and_fwd_flag='N', RatecodeID=1, PULocationID=129, DOLocationID=179, passenger_count=1, trip_distance=3.73, fare_amount=13.5, extra=0.0, mta_tax=0.5, tip_amount=1.0, tolls_amount=0.0, ehail_fee=None, improvement_surcharge=0.3, total_amount=15.3, payment_type=1, trip_type=1, congestion_surcharge=0.0),\n",
       " Row(VendorID=None, lpep_pickup_datetime=datetime.datetime(2020, 1, 4, 11, 38), lpep_dropoff_datetime=datetime.datetime(2020, 1, 4, 12, 11), store_and_fwd_flag=None, RatecodeID=None, PULocationID=25, DOLocationID=41, passenger_count=None, trip_distance=11.19, fare_amount=28.38, extra=0.0, mta_tax=0.5, tip_amount=0.0, tolls_amount=0.0, ehail_fee=None, improvement_surcharge=0.0, total_amount=28.88, payment_type=None, trip_type=None, congestion_surcharge=None),\n",
       " Row(VendorID=2, lpep_pickup_datetime=datetime.datetime(2020, 1, 30, 10, 3, 36), lpep_dropoff_datetime=datetime.datetime(2020, 1, 30, 10, 9, 55), store_and_fwd_flag='N', RatecodeID=5, PULocationID=182, DOLocationID=242, passenger_count=1, trip_distance=1.32, fare_amount=12.0, extra=0.0, mta_tax=0.0, tip_amount=0.0, tolls_amount=0.0, ehail_fee=None, improvement_surcharge=0.3, total_amount=12.3, payment_type=1, trip_type=2, congestion_surcharge=0.0),\n",
       " Row(VendorID=1, lpep_pickup_datetime=datetime.datetime(2020, 1, 30, 20, 56, 17), lpep_dropoff_datetime=datetime.datetime(2020, 1, 30, 21, 0, 18), store_and_fwd_flag='N', RatecodeID=1, PULocationID=210, DOLocationID=210, passenger_count=1, trip_distance=0.8, fare_amount=5.0, extra=0.5, mta_tax=0.5, tip_amount=0.7, tolls_amount=0.0, ehail_fee=None, improvement_surcharge=0.3, total_amount=7.0, payment_type=1, trip_type=1, congestion_surcharge=0.0)]"
      ]
     },
     "execution_count": 7,
     "metadata": {},
     "output_type": "execute_result"
    }
   ],
   "source": [
    "df_green.take(5)"
   ]
  },
  {
   "cell_type": "code",
   "execution_count": 8,
   "id": "065471cb-c029-4bf6-843c-3545813f07d4",
   "metadata": {},
   "outputs": [],
   "source": [
    "from datetime import datetime"
   ]
  },
  {
   "cell_type": "code",
   "execution_count": 9,
   "id": "66e7e81f-241a-48f7-8a34-a4c76a8f1e16",
   "metadata": {},
   "outputs": [],
   "source": [
    "start = datetime(year=2020, month=1, day=1)\n",
    "\n",
    "def filter_outlier(row):\n",
    "    return row.lpep_pickup_datetime >= start"
   ]
  },
  {
   "cell_type": "code",
   "execution_count": 26,
   "id": "ef69d4d6-3ca0-4fbb-8a27-b80335be6330",
   "metadata": {},
   "outputs": [],
   "source": [
    "# Change to smaller dataset to save computation resource\n",
    "rdd_first_20 = rdd.take(20)\n",
    "rdd_20 = spark.sparkContext.parallelize(rdd_first_20) "
   ]
  },
  {
   "cell_type": "code",
   "execution_count": 17,
   "id": "64efa7ec-b867-4f8a-b225-5f5277976110",
   "metadata": {},
   "outputs": [
    {
     "data": {
      "text/plain": [
       "[Row(lpep_pickup_datetime=datetime.datetime(2020, 1, 14, 13, 28, 9), PULocationID=74, total_amount=9.36)]"
      ]
     },
     "execution_count": 17,
     "metadata": {},
     "output_type": "execute_result"
    }
   ],
   "source": [
    "rdd_20\\\n",
    "    .filter(filter_outlier)\\\n",
    "    .take(1)"
   ]
  },
  {
   "cell_type": "markdown",
   "id": "3cfe9b8e-4749-46bf-8eef-baa81a745d64",
   "metadata": {},
   "source": [
    "#### GROUP BY vs .map()"
   ]
  },
  {
   "cell_type": "code",
   "execution_count": 18,
   "id": "2e23f3d1-8c68-4996-a43a-27b28fa7d750",
   "metadata": {},
   "outputs": [
    {
     "data": {
      "text/plain": [
       "Row(lpep_pickup_datetime=datetime.datetime(2020, 1, 14, 13, 28, 9), PULocationID=74, total_amount=9.36)"
      ]
     },
     "execution_count": 18,
     "metadata": {},
     "output_type": "execute_result"
    }
   ],
   "source": [
    "rows = rdd.take(10)\n",
    "row = rows[0]\n",
    "row"
   ]
  },
  {
   "cell_type": "code",
   "execution_count": 19,
   "id": "756accce-7f63-4baf-96aa-de8664560878",
   "metadata": {},
   "outputs": [
    {
     "data": {
      "text/plain": [
       "datetime.datetime(2020, 1, 14, 13, 0)"
      ]
     },
     "execution_count": 19,
     "metadata": {},
     "output_type": "execute_result"
    }
   ],
   "source": [
    "row.lpep_pickup_datetime.replace(minute=0, second=0, microsecond=0)"
   ]
  },
  {
   "cell_type": "code",
   "execution_count": 20,
   "id": "d60b96b2-51d2-4f23-b5e7-f447f4c5fbcb",
   "metadata": {},
   "outputs": [],
   "source": [
    "def prepare_for_grouping(row):\n",
    "    hour = row.lpep_pickup_datetime.replace(minute=0, second=0, microsecond=0)\n",
    "    zone = row.PULocationID\n",
    "    key = (hour, zone)\n",
    "\n",
    "    amount = row.total_amount\n",
    "    count = 1\n",
    "    value = (amount, count)\n",
    "    \n",
    "    return (key, value)"
   ]
  },
  {
   "cell_type": "code",
   "execution_count": 21,
   "id": "9d03f106-548d-4f25-aa5b-ee7db71044d6",
   "metadata": {},
   "outputs": [
    {
     "data": {
      "text/plain": [
       "[((datetime.datetime(2020, 1, 14, 13, 0), 74), (9.36, 1)),\n",
       " ((datetime.datetime(2020, 1, 28, 12, 0), 129), (15.3, 1)),\n",
       " ((datetime.datetime(2020, 1, 4, 11, 0), 25), (28.88, 1)),\n",
       " ((datetime.datetime(2020, 1, 30, 10, 0), 182), (12.3, 1)),\n",
       " ((datetime.datetime(2020, 1, 30, 20, 0), 210), (7.0, 1)),\n",
       " ((datetime.datetime(2020, 1, 6, 14, 0), 33), (9.3, 1)),\n",
       " ((datetime.datetime(2020, 1, 9, 18, 0), 42), (6.3, 1)),\n",
       " ((datetime.datetime(2020, 1, 29, 4, 0), 116), (5.81, 1)),\n",
       " ((datetime.datetime(2020, 1, 9, 15, 0), 223), (21.11, 1)),\n",
       " ((datetime.datetime(2020, 1, 31, 8, 0), 55), (38.3, 1))]"
      ]
     },
     "execution_count": 21,
     "metadata": {},
     "output_type": "execute_result"
    }
   ],
   "source": [
    "rdd_20\\\n",
    "    .filter(filter_outlier)\\\n",
    "    .map(prepare_for_grouping)\\\n",
    "    .take(10)"
   ]
  },
  {
   "cell_type": "code",
   "execution_count": 23,
   "id": "76294ac8-0fba-4401-b85d-21fd328a9919",
   "metadata": {},
   "outputs": [],
   "source": [
    "# reduce\n",
    "def calculate_revenue(left_value, right_value):\n",
    "    left_amount, left_count = left_value\n",
    "    right_amount, right_count = right_value\n",
    "\n",
    "    output_amount = left_amount + right_amount\n",
    "    output_count = left_count + right_count \n",
    "\n",
    "    return (output_amount, output_count)"
   ]
  },
  {
   "cell_type": "code",
   "execution_count": 31,
   "id": "69ee1969-0101-4add-af7b-7b49d42dd7d9",
   "metadata": {},
   "outputs": [
    {
     "data": {
      "text/plain": [
       "[((datetime.datetime(2020, 1, 30, 16, 0), 33), (6.3, 1)),\n",
       " ((datetime.datetime(2020, 1, 14, 18, 0), 75), (8.55, 1)),\n",
       " ((datetime.datetime(2020, 1, 3, 19, 0), 74), (15.3, 1)),\n",
       " ((datetime.datetime(2020, 1, 5, 0, 0), 42), (9.3, 1)),\n",
       " ((datetime.datetime(2020, 1, 28, 12, 0), 129), (15.3, 1)),\n",
       " ((datetime.datetime(2020, 1, 4, 11, 0), 25), (28.88, 1)),\n",
       " ((datetime.datetime(2020, 1, 3, 15, 0), 41), (6.8, 1)),\n",
       " ((datetime.datetime(2020, 1, 17, 22, 0), 83), (10.3, 1)),\n",
       " ((datetime.datetime(2020, 1, 9, 15, 0), 223), (21.11, 1)),\n",
       " ((datetime.datetime(2020, 1, 30, 20, 0), 210), (7.0, 1))]"
      ]
     },
     "execution_count": 31,
     "metadata": {},
     "output_type": "execute_result"
    }
   ],
   "source": [
    "# Reduce by key\n",
    "rdd_20\\\n",
    "    .filter(filter_outlier)\\\n",
    "    .map(prepare_for_grouping)\\\n",
    "    .reduceByKey(calculate_revenue)\\\n",
    "    .take(10)"
   ]
  },
  {
   "cell_type": "code",
   "execution_count": 37,
   "id": "65fdbfeb-2883-40cb-a6bb-0b2ea628f029",
   "metadata": {},
   "outputs": [],
   "source": [
    "# change back to dataframe\n",
    "def unwrap(row):\n",
    "    return(row[0][0],row[0][1],row[1][0],row[1][1])"
   ]
  },
  {
   "cell_type": "code",
   "execution_count": 32,
   "id": "afa05bca-8b31-4b61-8578-1a0b497cdb96",
   "metadata": {},
   "outputs": [
    {
     "name": "stdout",
     "output_type": "stream",
     "text": [
      "+--------------------+---+---+-----+---+\n",
      "|                  _1| _2| _3|   _4| _5|\n",
      "+--------------------+---+---+-----+---+\n",
      "|{2020-01-30 16:00...|[0]| 33|  6.3|  1|\n",
      "|{2020-01-14 18:00...|[0]| 75| 8.55|  1|\n",
      "|{2020-01-03 19:00...|[0]| 74| 15.3|  1|\n",
      "|{2020-01-05 00:00...|[0]| 42|  9.3|  1|\n",
      "|{2020-01-28 12:00...|[0]|129| 15.3|  1|\n",
      "|{2020-01-04 11:00...|[0]| 25|28.88|  1|\n",
      "|{2020-01-03 15:00...|[0]| 41|  6.8|  1|\n",
      "|{2020-01-17 22:00...|[0]| 83| 10.3|  1|\n",
      "|{2020-01-09 15:00...|[0]|223|21.11|  1|\n",
      "|{2020-01-30 20:00...|[0]|210|  7.0|  1|\n",
      "|{2020-01-14 13:00...|[0]| 74| 9.36|  1|\n",
      "|{2020-01-14 08:00...|[0]|166| 12.0|  1|\n",
      "|{2020-01-06 14:00...|[0]| 33|  9.3|  1|\n",
      "|{2020-01-29 04:00...|[0]|116| 5.81|  1|\n",
      "|{2020-01-15 19:00...|[0]|  7|  7.8|  1|\n",
      "|{2020-01-09 18:00...|[0]| 42|  6.3|  1|\n",
      "|{2020-01-31 08:00...|[0]| 55| 38.3|  1|\n",
      "|{2020-01-30 10:00...|[0]|182| 12.3|  1|\n",
      "|{2020-01-15 16:00...|[0]| 38|  4.8|  1|\n",
      "|{2020-01-01 16:00...|[0]|134|14.76|  1|\n",
      "+--------------------+---+---+-----+---+\n",
      "\n"
     ]
    }
   ],
   "source": [
    "# Reduce by key\n",
    "rdd_20\\\n",
    "    .filter(filter_outlier)\\\n",
    "    .map(prepare_for_grouping)\\\n",
    "    .reduceByKey(calculate_revenue)\\\n",
    "    .map(unwrap)\\\n",
    "    .toDF()\\\n",
    "    .show()"
   ]
  },
  {
   "cell_type": "code",
   "execution_count": 33,
   "id": "14b5e505-f8e3-43e8-af27-d80f49ec2216",
   "metadata": {},
   "outputs": [],
   "source": [
    "# rename columns\n",
    "from collections import namedtuple"
   ]
  },
  {
   "cell_type": "code",
   "execution_count": 34,
   "id": "80d0bcbe-48ab-4a67-a3a6-26bca1c21ae3",
   "metadata": {},
   "outputs": [],
   "source": [
    "RevenueRow = namedtuple('RevenueRow',['hour','zone','revenue','count'])"
   ]
  },
  {
   "cell_type": "code",
   "execution_count": 38,
   "id": "dc7977b4-fced-4f57-b737-e426f2a219b3",
   "metadata": {},
   "outputs": [],
   "source": [
    "# change back to dataframe\n",
    "def unwrap(row):\n",
    "    return RevenueRow(\n",
    "        hour=row[0][0],\n",
    "        zone=row[0][1],\n",
    "        revenue=row[1][0],\n",
    "        count=row[1][1])"
   ]
  },
  {
   "cell_type": "code",
   "execution_count": 39,
   "id": "82a32a46-d32d-467c-9d3e-c343f61a6c38",
   "metadata": {},
   "outputs": [
    {
     "name": "stdout",
     "output_type": "stream",
     "text": [
      "+-------------------+----+-------+-----+\n",
      "|               hour|zone|revenue|count|\n",
      "+-------------------+----+-------+-----+\n",
      "|2020-01-30 16:00:00|  33|    6.3|    1|\n",
      "|2020-01-14 18:00:00|  75|   8.55|    1|\n",
      "|2020-01-03 19:00:00|  74|   15.3|    1|\n",
      "|2020-01-05 00:00:00|  42|    9.3|    1|\n",
      "|2020-01-28 12:00:00| 129|   15.3|    1|\n",
      "|2020-01-04 11:00:00|  25|  28.88|    1|\n",
      "|2020-01-03 15:00:00|  41|    6.8|    1|\n",
      "|2020-01-17 22:00:00|  83|   10.3|    1|\n",
      "|2020-01-09 15:00:00| 223|  21.11|    1|\n",
      "|2020-01-30 20:00:00| 210|    7.0|    1|\n",
      "|2020-01-14 13:00:00|  74|   9.36|    1|\n",
      "|2020-01-14 08:00:00| 166|   12.0|    1|\n",
      "|2020-01-06 14:00:00|  33|    9.3|    1|\n",
      "|2020-01-29 04:00:00| 116|   5.81|    1|\n",
      "|2020-01-15 19:00:00|   7|    7.8|    1|\n",
      "|2020-01-09 18:00:00|  42|    6.3|    1|\n",
      "|2020-01-31 08:00:00|  55|   38.3|    1|\n",
      "|2020-01-30 10:00:00| 182|   12.3|    1|\n",
      "|2020-01-15 16:00:00|  38|    4.8|    1|\n",
      "|2020-01-01 16:00:00| 134|  14.76|    1|\n",
      "+-------------------+----+-------+-----+\n",
      "\n"
     ]
    }
   ],
   "source": [
    "# Reduce by key\n",
    "rdd_20\\\n",
    "    .filter(filter_outlier)\\\n",
    "    .map(prepare_for_grouping)\\\n",
    "    .reduceByKey(calculate_revenue)\\\n",
    "    .map(unwrap)\\\n",
    "    .toDF()\\\n",
    "    .show()"
   ]
  },
  {
   "cell_type": "code",
   "execution_count": 40,
   "id": "9a65d149-0422-4d05-ad13-026176aea1e1",
   "metadata": {},
   "outputs": [],
   "source": [
    "# save to variable\n",
    "df_result = rdd_20\\\n",
    "    .filter(filter_outlier)\\\n",
    "    .map(prepare_for_grouping)\\\n",
    "    .reduceByKey(calculate_revenue)\\\n",
    "    .map(unwrap)\\\n",
    "    .toDF() "
   ]
  },
  {
   "cell_type": "code",
   "execution_count": 41,
   "id": "25ca4dfc-1422-4ce8-8336-31937efe01f5",
   "metadata": {},
   "outputs": [
    {
     "data": {
      "text/plain": [
       "StructType([StructField('hour', TimestampType(), True), StructField('zone', LongType(), True), StructField('revenue', DoubleType(), True), StructField('count', LongType(), True)])"
      ]
     },
     "execution_count": 41,
     "metadata": {},
     "output_type": "execute_result"
    }
   ],
   "source": [
    "df_result.schema"
   ]
  },
  {
   "cell_type": "code",
   "execution_count": 42,
   "id": "0a45291c-15f8-4d49-9f38-3936fe2fa8be",
   "metadata": {},
   "outputs": [],
   "source": [
    "from pyspark.sql import types"
   ]
  },
  {
   "cell_type": "code",
   "execution_count": 43,
   "id": "2070bd4f-2921-47cc-a535-917aeaa7a0a3",
   "metadata": {},
   "outputs": [],
   "source": [
    "result_schema = types.StructType([\n",
    "    types.StructField('hour', types.TimestampType(), True), \n",
    "    types.StructField('zone', types.IntegerType(), True), \n",
    "    types.StructField('revenue', types.DoubleType(), True), \n",
    "    types.StructField('count', types.IntegerType(), True)])"
   ]
  },
  {
   "cell_type": "code",
   "execution_count": 44,
   "id": "6410a2e9-b4d1-4e0e-921d-a953350a94de",
   "metadata": {},
   "outputs": [],
   "source": [
    "# save to variable\n",
    "df_result = rdd_20\\\n",
    "    .filter(filter_outlier)\\\n",
    "    .map(prepare_for_grouping)\\\n",
    "    .reduceByKey(calculate_revenue)\\\n",
    "    .map(unwrap)\\\n",
    "    .toDF(result_schema) "
   ]
  },
  {
   "cell_type": "code",
   "execution_count": 45,
   "id": "8eea74a7-80fa-43dc-be9f-616e612c8d8d",
   "metadata": {},
   "outputs": [
    {
     "name": "stdout",
     "output_type": "stream",
     "text": [
      "+-------------------+----+-------+-----+\n",
      "|               hour|zone|revenue|count|\n",
      "+-------------------+----+-------+-----+\n",
      "|2020-01-30 16:00:00|  33|    6.3|    1|\n",
      "|2020-01-14 18:00:00|  75|   8.55|    1|\n",
      "|2020-01-03 19:00:00|  74|   15.3|    1|\n",
      "|2020-01-05 00:00:00|  42|    9.3|    1|\n",
      "|2020-01-28 12:00:00| 129|   15.3|    1|\n",
      "|2020-01-04 11:00:00|  25|  28.88|    1|\n",
      "|2020-01-03 15:00:00|  41|    6.8|    1|\n",
      "|2020-01-17 22:00:00|  83|   10.3|    1|\n",
      "|2020-01-09 15:00:00| 223|  21.11|    1|\n",
      "|2020-01-30 20:00:00| 210|    7.0|    1|\n",
      "|2020-01-14 13:00:00|  74|   9.36|    1|\n",
      "|2020-01-14 08:00:00| 166|   12.0|    1|\n",
      "|2020-01-06 14:00:00|  33|    9.3|    1|\n",
      "|2020-01-29 04:00:00| 116|   5.81|    1|\n",
      "|2020-01-15 19:00:00|   7|    7.8|    1|\n",
      "|2020-01-09 18:00:00|  42|    6.3|    1|\n",
      "|2020-01-31 08:00:00|  55|   38.3|    1|\n",
      "|2020-01-30 10:00:00| 182|   12.3|    1|\n",
      "|2020-01-15 16:00:00|  38|    4.8|    1|\n",
      "|2020-01-01 16:00:00| 134|  14.76|    1|\n",
      "+-------------------+----+-------+-----+\n",
      "\n"
     ]
    }
   ],
   "source": [
    "df_result.show()"
   ]
  },
  {
   "cell_type": "code",
   "execution_count": 47,
   "id": "5baf8738-61bd-4a67-91f7-dfe0d8493943",
   "metadata": {},
   "outputs": [],
   "source": [
    "df_result.write.parquet('tmp/green_revenue')"
   ]
  },
  {
   "cell_type": "markdown",
   "id": "b5bac989-4555-4215-86b5-09eb354bd1bf",
   "metadata": {},
   "source": [
    "## Map Partition"
   ]
  },
  {
   "cell_type": "code",
   "execution_count": 7,
   "id": "b09f05ac-d9f5-4215-828e-60552948f3ca",
   "metadata": {},
   "outputs": [
    {
     "name": "stdout",
     "output_type": "stream",
     "text": [
      "+--------+--------------------+---------------------+------------------+----------+------------+------------+---------------+-------------+-----------+-----+-------+----------+------------+---------+---------------------+------------+------------+---------+--------------------+\n",
      "|VendorID|lpep_pickup_datetime|lpep_dropoff_datetime|store_and_fwd_flag|RatecodeID|PULocationID|DOLocationID|passenger_count|trip_distance|fare_amount|extra|mta_tax|tip_amount|tolls_amount|ehail_fee|improvement_surcharge|total_amount|payment_type|trip_type|congestion_surcharge|\n",
      "+--------+--------------------+---------------------+------------------+----------+------------+------------+---------------+-------------+-----------+-----+-------+----------+------------+---------+---------------------+------------+------------+---------+--------------------+\n",
      "|       2| 2020-01-14 13:28:09|  2020-01-14 13:35:19|                 N|         1|          74|          75|              1|         1.35|        7.0|  0.0|    0.5|      1.56|         0.0|     NULL|                  0.3|        9.36|           1|        1|                 0.0|\n",
      "|       2| 2020-01-28 12:11:44|  2020-01-28 12:25:21|                 N|         1|         129|         179|              1|         3.73|       13.5|  0.0|    0.5|       1.0|         0.0|     NULL|                  0.3|        15.3|           1|        1|                 0.0|\n",
      "|    NULL| 2020-01-04 11:38:00|  2020-01-04 12:11:00|              NULL|      NULL|          25|          41|           NULL|        11.19|      28.38|  0.0|    0.5|       0.0|         0.0|     NULL|                  0.0|       28.88|        NULL|     NULL|                NULL|\n",
      "|       2| 2020-01-30 10:03:36|  2020-01-30 10:09:55|                 N|         5|         182|         242|              1|         1.32|       12.0|  0.0|    0.0|       0.0|         0.0|     NULL|                  0.3|        12.3|           1|        2|                 0.0|\n",
      "|       1| 2020-01-30 20:56:17|  2020-01-30 21:00:18|                 N|         1|         210|         210|              1|          0.8|        5.0|  0.5|    0.5|       0.7|         0.0|     NULL|                  0.3|         7.0|           1|        1|                 0.0|\n",
      "|       2| 2020-01-06 14:40:15|  2020-01-06 14:51:55|                 N|         1|          33|          66|              1|         1.24|        8.5|  0.0|    0.5|       0.0|         0.0|     NULL|                  0.3|         9.3|           2|        1|                 0.0|\n",
      "|       2| 2020-01-09 18:01:49|  2020-01-09 18:05:28|                 N|         1|          42|         116|              1|         0.52|        4.5|  1.0|    0.5|       0.0|         0.0|     NULL|                  0.3|         6.3|           2|        1|                 0.0|\n",
      "|       2| 2020-01-29 04:39:21|  2020-01-29 04:42:02|                 N|         1|         116|         116|              1|         0.58|        4.5|  0.5|    0.5|      0.01|         0.0|     NULL|                  0.3|        5.81|           1|        1|                 0.0|\n",
      "|    NULL| 2020-01-09 15:01:00|  2020-01-09 15:28:00|              NULL|      NULL|         223|          92|           NULL|         6.79|      20.81|  0.0|    0.0|       0.0|         0.0|     NULL|                  0.3|       21.11|        NULL|     NULL|                NULL|\n",
      "|       2| 2020-01-31 08:32:25|  2020-01-31 09:27:29|                 N|         1|          55|          55|              1|         9.69|       37.5|  0.0|    0.5|       0.0|         0.0|     NULL|                  0.3|        38.3|           2|        1|                 0.0|\n",
      "|       2| 2020-01-15 19:24:18|  2020-01-15 19:30:00|                 N|         1|           7|         179|              1|         1.25|        6.0|  1.0|    0.5|       0.0|         0.0|     NULL|                  0.3|         7.8|           2|        1|                 0.0|\n",
      "|       2| 2020-01-03 15:26:19|  2020-01-03 15:31:51|                 N|         1|          41|          42|              1|         1.23|        6.0|  0.0|    0.5|       0.0|         0.0|     NULL|                  0.3|         6.8|           2|        1|                 0.0|\n",
      "|       2| 2020-01-03 19:48:18|  2020-01-03 20:00:22|                 N|         1|          74|          69|              1|         3.99|       13.5|  1.0|    0.5|       0.0|         0.0|     NULL|                  0.3|        15.3|           2|        1|                 0.0|\n",
      "|       2| 2020-01-30 16:52:16|  2020-01-30 16:55:48|                 N|         1|          33|          52|              1|         0.57|        4.5|  1.0|    0.5|       0.0|         0.0|     NULL|                  0.3|         6.3|           2|        1|                 0.0|\n",
      "|       1| 2020-01-14 08:47:20|  2020-01-14 09:01:40|                 N|         1|         166|          75|              1|          1.5|       10.5|  0.0|    0.5|       0.7|         0.0|     NULL|                  0.3|        12.0|           1|        1|                 0.0|\n",
      "|       2| 2020-01-15 16:42:33|  2020-01-15 16:43:29|                 N|         1|          38|          38|              1|         0.19|        3.0|  1.0|    0.5|       0.0|         0.0|     NULL|                  0.3|         4.8|           2|        1|                 0.0|\n",
      "|       2| 2020-01-17 22:44:53|  2020-01-17 22:54:46|                 N|         1|          83|         157|              1|         1.81|        9.0|  0.5|    0.5|       0.0|         0.0|     NULL|                  0.3|        10.3|           2|        1|                 0.0|\n",
      "|    NULL| 2020-01-05 00:35:00|  2020-01-05 00:43:00|              NULL|      NULL|          42|         244|           NULL|         1.49|        9.0|  0.0|    0.0|       0.0|         0.0|     NULL|                  0.3|         9.3|        NULL|     NULL|                NULL|\n",
      "|       2| 2020-01-14 18:56:54|  2020-01-14 19:02:29|                 N|         1|          75|         151|              1|         1.05|        6.0|  1.0|    0.5|      0.75|         0.0|     NULL|                  0.3|        8.55|           1|        1|                 0.0|\n",
      "|       2| 2020-01-01 16:10:02|  2020-01-01 16:20:32|                 N|         1|         134|         216|              1|         3.47|       11.5|  0.0|    0.5|      2.46|         0.0|     NULL|                  0.3|       14.76|           1|        1|                 0.0|\n",
      "+--------+--------------------+---------------------+------------------+----------+------------+------------+---------------+-------------+-----------+-----+-------+----------+------------+---------+---------------------+------------+------------+---------+--------------------+\n",
      "only showing top 20 rows\n",
      "\n"
     ]
    }
   ],
   "source": [
    "df_green.show()"
   ]
  },
  {
   "cell_type": "code",
   "execution_count": 12,
   "id": "b557ecce-0ccf-4941-a63e-4b17e6cae563",
   "metadata": {},
   "outputs": [],
   "source": [
    "columns = ['VendorID', 'lpep_pickup_datetime', 'PULocationID', 'DOLocationID','trip_distance']\n",
    "\n",
    "duration_rdd = df_green\\\n",
    "    .select(columns)\\\n",
    "    .rdd"
   ]
  },
  {
   "cell_type": "code",
   "execution_count": 19,
   "id": "fe8f29ce-a2e2-4fb4-af8b-7058a902dcdb",
   "metadata": {},
   "outputs": [],
   "source": [
    "# Change to smaller dataset to save computation resource\n",
    "rdd_first_20 = rdd.take(20)\n",
    "rdd_20 = spark.sparkContext.parallelize(rdd_first_20) "
   ]
  },
  {
   "cell_type": "code",
   "execution_count": 18,
   "id": "799f09ed-5aa1-4882-b9cb-ef46dd549d10",
   "metadata": {},
   "outputs": [],
   "source": [
    "def apply_model_batch(partition):\n",
    "    cnt = 0\n",
    "\n",
    "    for row in partition:\n",
    "        cnt += 1\n",
    "    \n",
    "    return [cnt]"
   ]
  },
  {
   "cell_type": "code",
   "execution_count": 21,
   "id": "7783e9df-fede-4038-a4f2-53c2980adeb3",
   "metadata": {},
   "outputs": [
    {
     "data": {
      "text/plain": [
       "[1, 1, 1, 2, 1, 1, 1, 2, 1, 1, 1, 2, 1, 1, 1, 2]"
      ]
     },
     "execution_count": 21,
     "metadata": {},
     "output_type": "execute_result"
    }
   ],
   "source": [
    "rdd_20.mapPartitions(apply_model_batch).collect()"
   ]
  },
  {
   "cell_type": "code",
   "execution_count": 22,
   "id": "d6370910-9c1c-4c89-92ee-833e4b0de764",
   "metadata": {},
   "outputs": [],
   "source": [
    "# turn partition to dataframe\n",
    "import pandas as pd"
   ]
  },
  {
   "cell_type": "code",
   "execution_count": 23,
   "id": "b2bd1052-4aa6-43f2-a5c4-abd5d914670b",
   "metadata": {},
   "outputs": [],
   "source": [
    "rows = duration_rdd.take(10)"
   ]
  },
  {
   "cell_type": "code",
   "execution_count": 27,
   "id": "166c789a-d804-4852-86a8-865b32f22cce",
   "metadata": {},
   "outputs": [
    {
     "data": {
      "text/html": [
       "<div>\n",
       "<style scoped>\n",
       "    .dataframe tbody tr th:only-of-type {\n",
       "        vertical-align: middle;\n",
       "    }\n",
       "\n",
       "    .dataframe tbody tr th {\n",
       "        vertical-align: top;\n",
       "    }\n",
       "\n",
       "    .dataframe thead th {\n",
       "        text-align: right;\n",
       "    }\n",
       "</style>\n",
       "<table border=\"1\" class=\"dataframe\">\n",
       "  <thead>\n",
       "    <tr style=\"text-align: right;\">\n",
       "      <th></th>\n",
       "      <th>VendorID</th>\n",
       "      <th>lpep_pickup_datetime</th>\n",
       "      <th>PULocationID</th>\n",
       "      <th>DOLocationID</th>\n",
       "      <th>trip_distance</th>\n",
       "    </tr>\n",
       "  </thead>\n",
       "  <tbody>\n",
       "    <tr>\n",
       "      <th>0</th>\n",
       "      <td>2.0</td>\n",
       "      <td>2020-01-14 13:28:09</td>\n",
       "      <td>74</td>\n",
       "      <td>75</td>\n",
       "      <td>1.35</td>\n",
       "    </tr>\n",
       "    <tr>\n",
       "      <th>1</th>\n",
       "      <td>2.0</td>\n",
       "      <td>2020-01-28 12:11:44</td>\n",
       "      <td>129</td>\n",
       "      <td>179</td>\n",
       "      <td>3.73</td>\n",
       "    </tr>\n",
       "    <tr>\n",
       "      <th>2</th>\n",
       "      <td>NaN</td>\n",
       "      <td>2020-01-04 11:38:00</td>\n",
       "      <td>25</td>\n",
       "      <td>41</td>\n",
       "      <td>11.19</td>\n",
       "    </tr>\n",
       "    <tr>\n",
       "      <th>3</th>\n",
       "      <td>2.0</td>\n",
       "      <td>2020-01-30 10:03:36</td>\n",
       "      <td>182</td>\n",
       "      <td>242</td>\n",
       "      <td>1.32</td>\n",
       "    </tr>\n",
       "    <tr>\n",
       "      <th>4</th>\n",
       "      <td>1.0</td>\n",
       "      <td>2020-01-30 20:56:17</td>\n",
       "      <td>210</td>\n",
       "      <td>210</td>\n",
       "      <td>0.80</td>\n",
       "    </tr>\n",
       "    <tr>\n",
       "      <th>5</th>\n",
       "      <td>2.0</td>\n",
       "      <td>2020-01-06 14:40:15</td>\n",
       "      <td>33</td>\n",
       "      <td>66</td>\n",
       "      <td>1.24</td>\n",
       "    </tr>\n",
       "    <tr>\n",
       "      <th>6</th>\n",
       "      <td>2.0</td>\n",
       "      <td>2020-01-09 18:01:49</td>\n",
       "      <td>42</td>\n",
       "      <td>116</td>\n",
       "      <td>0.52</td>\n",
       "    </tr>\n",
       "    <tr>\n",
       "      <th>7</th>\n",
       "      <td>2.0</td>\n",
       "      <td>2020-01-29 04:39:21</td>\n",
       "      <td>116</td>\n",
       "      <td>116</td>\n",
       "      <td>0.58</td>\n",
       "    </tr>\n",
       "    <tr>\n",
       "      <th>8</th>\n",
       "      <td>NaN</td>\n",
       "      <td>2020-01-09 15:01:00</td>\n",
       "      <td>223</td>\n",
       "      <td>92</td>\n",
       "      <td>6.79</td>\n",
       "    </tr>\n",
       "    <tr>\n",
       "      <th>9</th>\n",
       "      <td>2.0</td>\n",
       "      <td>2020-01-31 08:32:25</td>\n",
       "      <td>55</td>\n",
       "      <td>55</td>\n",
       "      <td>9.69</td>\n",
       "    </tr>\n",
       "  </tbody>\n",
       "</table>\n",
       "</div>"
      ],
      "text/plain": [
       "   VendorID lpep_pickup_datetime  PULocationID  DOLocationID  trip_distance\n",
       "0       2.0  2020-01-14 13:28:09            74            75           1.35\n",
       "1       2.0  2020-01-28 12:11:44           129           179           3.73\n",
       "2       NaN  2020-01-04 11:38:00            25            41          11.19\n",
       "3       2.0  2020-01-30 10:03:36           182           242           1.32\n",
       "4       1.0  2020-01-30 20:56:17           210           210           0.80\n",
       "5       2.0  2020-01-06 14:40:15            33            66           1.24\n",
       "6       2.0  2020-01-09 18:01:49            42           116           0.52\n",
       "7       2.0  2020-01-29 04:39:21           116           116           0.58\n",
       "8       NaN  2020-01-09 15:01:00           223            92           6.79\n",
       "9       2.0  2020-01-31 08:32:25            55            55           9.69"
      ]
     },
     "execution_count": 27,
     "metadata": {},
     "output_type": "execute_result"
    }
   ],
   "source": [
    "pd.DataFrame(rows, columns = columns)"
   ]
  },
  {
   "cell_type": "code",
   "execution_count": 28,
   "id": "17fc14a5-b09b-4129-8d48-ed0bedac3a7c",
   "metadata": {},
   "outputs": [],
   "source": [
    "def apply_model_batch(rows):\n",
    "    df = pd.DataFrame(rows, columns = columns)\n",
    "    cnt = len(df)\n",
    "    \n",
    "    return [cnt]"
   ]
  },
  {
   "cell_type": "code",
   "execution_count": 31,
   "id": "c0d8fc53-882a-42d1-9da7-e96ff59d5b95",
   "metadata": {},
   "outputs": [],
   "source": [
    "# Change to smaller dataset to save computation resource\n",
    "duration_rdd_first_30 = duration_rdd.take(30)\n",
    "duration_rdd_30 = spark.sparkContext.parallelize(duration_rdd_first_30) "
   ]
  },
  {
   "cell_type": "code",
   "execution_count": 33,
   "id": "22e34dfa-6480-436e-84be-bdd98a99764b",
   "metadata": {},
   "outputs": [
    {
     "data": {
      "text/plain": [
       "[1, 2, 2, 2, 2, 2, 2, 2, 1, 2, 2, 2, 2, 2, 2, 2]"
      ]
     },
     "execution_count": 33,
     "metadata": {},
     "output_type": "execute_result"
    }
   ],
   "source": [
    "duration_rdd_30.mapPartitions(apply_model_batch).collect()\n",
    "# can use isclice iterator to get the chunks in same size"
   ]
  },
  {
   "cell_type": "code",
   "execution_count": 35,
   "id": "dae7ad2d-846a-4b59-b82a-47ff2c605be3",
   "metadata": {},
   "outputs": [],
   "source": [
    "df = pd.DataFrame(rows,columns=columns)"
   ]
  },
  {
   "cell_type": "code",
   "execution_count": 36,
   "id": "182a46d6-e0bd-4044-96a0-52539f13421b",
   "metadata": {},
   "outputs": [
    {
     "data": {
      "text/plain": [
       "[Pandas(Index=0, VendorID=2.0, lpep_pickup_datetime=Timestamp('2020-01-14 13:28:09'), PULocationID=74, DOLocationID=75, trip_distance=1.35),\n",
       " Pandas(Index=1, VendorID=2.0, lpep_pickup_datetime=Timestamp('2020-01-28 12:11:44'), PULocationID=129, DOLocationID=179, trip_distance=3.73),\n",
       " Pandas(Index=2, VendorID=nan, lpep_pickup_datetime=Timestamp('2020-01-04 11:38:00'), PULocationID=25, DOLocationID=41, trip_distance=11.19),\n",
       " Pandas(Index=3, VendorID=2.0, lpep_pickup_datetime=Timestamp('2020-01-30 10:03:36'), PULocationID=182, DOLocationID=242, trip_distance=1.32),\n",
       " Pandas(Index=4, VendorID=1.0, lpep_pickup_datetime=Timestamp('2020-01-30 20:56:17'), PULocationID=210, DOLocationID=210, trip_distance=0.8),\n",
       " Pandas(Index=5, VendorID=2.0, lpep_pickup_datetime=Timestamp('2020-01-06 14:40:15'), PULocationID=33, DOLocationID=66, trip_distance=1.24),\n",
       " Pandas(Index=6, VendorID=2.0, lpep_pickup_datetime=Timestamp('2020-01-09 18:01:49'), PULocationID=42, DOLocationID=116, trip_distance=0.52),\n",
       " Pandas(Index=7, VendorID=2.0, lpep_pickup_datetime=Timestamp('2020-01-29 04:39:21'), PULocationID=116, DOLocationID=116, trip_distance=0.58),\n",
       " Pandas(Index=8, VendorID=nan, lpep_pickup_datetime=Timestamp('2020-01-09 15:01:00'), PULocationID=223, DOLocationID=92, trip_distance=6.79),\n",
       " Pandas(Index=9, VendorID=2.0, lpep_pickup_datetime=Timestamp('2020-01-31 08:32:25'), PULocationID=55, DOLocationID=55, trip_distance=9.69)]"
      ]
     },
     "execution_count": 36,
     "metadata": {},
     "output_type": "execute_result"
    }
   ],
   "source": [
    "list(df.itertuples())"
   ]
  },
  {
   "cell_type": "code",
   "execution_count": 48,
   "id": "058271cd-8187-4ec1-8d30-feace90941f9",
   "metadata": {},
   "outputs": [],
   "source": [
    "def plus_seq():\n",
    "    i = 0\n",
    "\n",
    "    while True:\n",
    "        yield i\n",
    "        i = i+1\n",
    "\n",
    "        if i > 15:\n",
    "            break"
   ]
  },
  {
   "cell_type": "code",
   "execution_count": 49,
   "id": "957ba790-b33f-4fbe-8e2e-a4a6a8afc139",
   "metadata": {},
   "outputs": [],
   "source": [
    "seq = plus_seq()"
   ]
  },
  {
   "cell_type": "code",
   "execution_count": 50,
   "id": "f8757e84-53df-4889-b47c-0091ca7bf9c7",
   "metadata": {},
   "outputs": [
    {
     "data": {
      "text/plain": [
       "[0, 1, 2, 3, 4, 5, 6, 7, 8, 9, 10, 11, 12, 13, 14, 15]"
      ]
     },
     "execution_count": 50,
     "metadata": {},
     "output_type": "execute_result"
    }
   ],
   "source": [
    "list(seq)"
   ]
  },
  {
   "cell_type": "code",
   "execution_count": 51,
   "id": "0a66d2a4-6b92-418b-bfce-ab5dcc18bb01",
   "metadata": {},
   "outputs": [
    {
     "ename": "StopIteration",
     "evalue": "",
     "output_type": "error",
     "traceback": [
      "\u001b[1;31m---------------------------------------------------------------------------\u001b[0m",
      "\u001b[1;31mStopIteration\u001b[0m                             Traceback (most recent call last)",
      "Cell \u001b[1;32mIn[51], line 1\u001b[0m\n\u001b[1;32m----> 1\u001b[0m \u001b[38;5;28;43mnext\u001b[39;49m\u001b[43m(\u001b[49m\u001b[43mseq\u001b[49m\u001b[43m)\u001b[49m\n",
      "\u001b[1;31mStopIteration\u001b[0m: "
     ]
    }
   ],
   "source": [
    "next(seq)"
   ]
  },
  {
   "cell_type": "code",
   "execution_count": 34,
   "id": "9f107564-e8db-496b-8b99-5b57abf7e0f8",
   "metadata": {},
   "outputs": [],
   "source": [
    "# model = ...\n",
    "\n",
    "def model_predict(df):\n",
    "    # y_pred = model_predict(df)\n",
    "    y_pred = df.trip_distance * 5\n",
    "    return y_pred"
   ]
  },
  {
   "cell_type": "code",
   "execution_count": 52,
   "id": "2e5cc9b1-6f32-4fc9-8c95-3dd5bd567945",
   "metadata": {},
   "outputs": [],
   "source": [
    "def apply_model_batch(rows):\n",
    "    df = pd.DataFrame(rows, columns = columns)\n",
    "    cnt = len(df)\n",
    "    predictions = model_predict(df)\n",
    "    df['predicted_duration'] = predictions \n",
    "    \n",
    "    for row in df.itertuples():\n",
    "        yield row "
   ]
  },
  {
   "cell_type": "code",
   "execution_count": 54,
   "id": "9b6a2876-bf00-4527-a718-a01e509667c2",
   "metadata": {},
   "outputs": [
    {
     "name": "stdout",
     "output_type": "stream",
     "text": [
      "+-----+--------+--------------------+------------+------------+-------------+------------------+\n",
      "|Index|VendorID|lpep_pickup_datetime|PULocationID|DOLocationID|trip_distance|predicted_duration|\n",
      "+-----+--------+--------------------+------------+------------+-------------+------------------+\n",
      "|    0|       2|                  {}|          74|          75|         1.35|              6.75|\n",
      "|    0|    NULL|                  {}|         129|         179|         3.73|             18.65|\n",
      "|    1|    NULL|                  {}|          25|          41|        11.19|55.949999999999996|\n",
      "|    0|       2|                  {}|         182|         242|         1.32|6.6000000000000005|\n",
      "|    1|       1|                  {}|         210|         210|          0.8|               4.0|\n",
      "|    0|       2|                  {}|          33|          66|         1.24|               6.2|\n",
      "|    1|       2|                  {}|          42|         116|         0.52|               2.6|\n",
      "|    0|    NULL|                  {}|         116|         116|         0.58|               2.9|\n",
      "|    1|    NULL|                  {}|         223|          92|         6.79|             33.95|\n",
      "|    0|       2|                  {}|          55|          55|         9.69|48.449999999999996|\n",
      "|    1|       2|                  {}|           7|         179|         1.25|              6.25|\n",
      "|    0|       2|                  {}|          41|          42|         1.23|              6.15|\n",
      "|    1|       2|                  {}|          74|          69|         3.99|19.950000000000003|\n",
      "|    0|       2|                  {}|          33|          52|         0.57|2.8499999999999996|\n",
      "|    1|       1|                  {}|         166|          75|          1.5|               7.5|\n",
      "|    0|       2|                  {}|          38|          38|         0.19|              0.95|\n",
      "|    0|    NULL|                  {}|          83|         157|         1.81|              9.05|\n",
      "|    1|    NULL|                  {}|          42|         244|         1.49|              7.45|\n",
      "|    0|       2|                  {}|          75|         151|         1.05|              5.25|\n",
      "|    1|       2|                  {}|         134|         216|         3.47|             17.35|\n",
      "+-----+--------+--------------------+------------+------------+-------------+------------------+\n",
      "only showing top 20 rows\n",
      "\n"
     ]
    }
   ],
   "source": [
    "duration_rdd_30.mapPartitions(apply_model_batch).toDF().show()"
   ]
  },
  {
   "cell_type": "code",
   "execution_count": 59,
   "id": "3e199e26-5fa3-42c8-b701-882d57e4b551",
   "metadata": {},
   "outputs": [],
   "source": [
    "# Drop index and convert Pandas Timestamp to string, spark does not reccognize Pandas Timestamp\n",
    "def apply_model_batch(rows):\n",
    "    df = pd.DataFrame(rows, columns = columns)\n",
    "    df['lpep_pickup_datetime'] = df['lpep_pickup_datetime'].astype(str) # string conversion\n",
    "    predictions = model_predict(df)\n",
    "    df['predicted_duraction'] = predictions\n",
    "    for row in df.itertuples():\n",
    "        yield row"
   ]
  },
  {
   "cell_type": "code",
   "execution_count": 60,
   "id": "87c05b2b-e923-457a-8457-3d5ec6a1ada7",
   "metadata": {},
   "outputs": [],
   "source": [
    "df_predict = duration_rdd_30\\\n",
    "                .mapPartitions(apply_model_batch)\\\n",
    "                .toDF()\\\n",
    "                .drop('Index')"
   ]
  },
  {
   "cell_type": "code",
   "execution_count": 61,
   "id": "8ead1ffe-34ba-4f75-8c2e-513b3e6e757e",
   "metadata": {},
   "outputs": [
    {
     "name": "stdout",
     "output_type": "stream",
     "text": [
      "+--------+--------------------+------------+------------+-------------+-------------------+\n",
      "|VendorID|lpep_pickup_datetime|PULocationID|DOLocationID|trip_distance|predicted_duraction|\n",
      "+--------+--------------------+------------+------------+-------------+-------------------+\n",
      "|       2| 2020-01-14 13:28:09|          74|          75|         1.35|               6.75|\n",
      "|    NULL| 2020-01-28 12:11:44|         129|         179|         3.73|              18.65|\n",
      "|    NULL| 2020-01-04 11:38:00|          25|          41|        11.19| 55.949999999999996|\n",
      "|       2| 2020-01-30 10:03:36|         182|         242|         1.32| 6.6000000000000005|\n",
      "|       1| 2020-01-30 20:56:17|         210|         210|          0.8|                4.0|\n",
      "|       2| 2020-01-06 14:40:15|          33|          66|         1.24|                6.2|\n",
      "|       2| 2020-01-09 18:01:49|          42|         116|         0.52|                2.6|\n",
      "|    NULL| 2020-01-29 04:39:21|         116|         116|         0.58|                2.9|\n",
      "|    NULL| 2020-01-09 15:01:00|         223|          92|         6.79|              33.95|\n",
      "|       2| 2020-01-31 08:32:25|          55|          55|         9.69| 48.449999999999996|\n",
      "|       2| 2020-01-15 19:24:18|           7|         179|         1.25|               6.25|\n",
      "|       2| 2020-01-03 15:26:19|          41|          42|         1.23|               6.15|\n",
      "|       2| 2020-01-03 19:48:18|          74|          69|         3.99| 19.950000000000003|\n",
      "|       2| 2020-01-30 16:52:16|          33|          52|         0.57| 2.8499999999999996|\n",
      "|       1| 2020-01-14 08:47:20|         166|          75|          1.5|                7.5|\n",
      "|       2| 2020-01-15 16:42:33|          38|          38|         0.19|               0.95|\n",
      "|    NULL| 2020-01-17 22:44:53|          83|         157|         1.81|               9.05|\n",
      "|    NULL| 2020-01-05 00:35:00|          42|         244|         1.49|               7.45|\n",
      "|       2| 2020-01-14 18:56:54|          75|         151|         1.05|               5.25|\n",
      "|       2| 2020-01-01 16:10:02|         134|         216|         3.47|              17.35|\n",
      "+--------+--------------------+------------+------------+-------------+-------------------+\n",
      "only showing top 20 rows\n",
      "\n"
     ]
    }
   ],
   "source": [
    "df_predict.show()"
   ]
  },
  {
   "cell_type": "code",
   "execution_count": null,
   "id": "8dd50059-8a84-4649-952a-3ecbb329a3a7",
   "metadata": {},
   "outputs": [],
   "source": []
  }
 ],
 "metadata": {
  "kernelspec": {
   "display_name": "Python 3 (ipykernel)",
   "language": "python",
   "name": "python3"
  },
  "language_info": {
   "codemirror_mode": {
    "name": "ipython",
    "version": 3
   },
   "file_extension": ".py",
   "mimetype": "text/x-python",
   "name": "python",
   "nbconvert_exporter": "python",
   "pygments_lexer": "ipython3",
   "version": "3.11.8"
  }
 },
 "nbformat": 4,
 "nbformat_minor": 5
}
