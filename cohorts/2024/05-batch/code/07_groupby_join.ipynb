{
 "cells": [
  {
   "cell_type": "code",
   "execution_count": 1,
   "id": "e839fb7a-211f-4fa2-ada3-1a5381ccb703",
   "metadata": {},
   "outputs": [],
   "source": [
    "import pyspark\n",
    "from pyspark.sql import SparkSession\n",
    "\n",
    "spark = SparkSession.builder \\\n",
    "    .master(\"local[*]\") \\\n",
    "    .appName('test') \\\n",
    "    .getOrCreate()"
   ]
  },
  {
   "cell_type": "code",
   "execution_count": 2,
   "id": "689368ce-8a53-4ab4-b277-a2455c34516d",
   "metadata": {},
   "outputs": [],
   "source": [
    "df_green = spark.read.parquet('data/pq/green/*/*')"
   ]
  },
  {
   "cell_type": "code",
   "execution_count": 3,
   "id": "f52c916e-83ba-420e-944e-c4580a88b490",
   "metadata": {},
   "outputs": [
    {
     "name": "stderr",
     "output_type": "stream",
     "text": [
      "C:\\Users\\crab\\AppData\\Local\\Programs\\Python\\Python311\\Lib\\site-packages\\pyspark\\sql\\dataframe.py:329: FutureWarning: Deprecated in 2.0, use createOrReplaceTempView instead.\n",
      "  warnings.warn(\"Deprecated in 2.0, use createOrReplaceTempView instead.\", FutureWarning)\n"
     ]
    }
   ],
   "source": [
    "df_green.registerTempTable(\"green\")"
   ]
  },
  {
   "cell_type": "code",
   "execution_count": 4,
   "id": "bf54d698-5ce8-4347-bd20-2f52c32dcf5f",
   "metadata": {},
   "outputs": [],
   "source": [
    "df_green_revenue = spark.sql(\"\"\"\n",
    "SELECT \n",
    "    -- Reveneue grouping \n",
    "    date_trunc('hour', lpep_pickup_datetime) AS hour,  \n",
    "    PULocationID AS  zone,\n",
    "\n",
    "    -- Revenue calculation  \n",
    "    SUM(total_amount) AS revenue_monthly_total_amount,\n",
    "    COUNT(1) AS number_records\n",
    " \n",
    "FROM\n",
    "    green\n",
    "WHERE\n",
    "    lpep_pickup_datetime >='2020-01-01 00:00:00'\n",
    "GROUP BY\n",
    "    1, 2 \n",
    "ORDER BY\n",
    "    1,2\n",
    "\"\"\")"
   ]
  },
  {
   "cell_type": "code",
   "execution_count": 5,
   "id": "33333c72-734e-4169-9f85-82a754c9e596",
   "metadata": {},
   "outputs": [
    {
     "name": "stdout",
     "output_type": "stream",
     "text": [
      "+-------------------+----+----------------------------+--------------+\n",
      "|               hour|zone|revenue_monthly_total_amount|number_records|\n",
      "+-------------------+----+----------------------------+--------------+\n",
      "|2020-01-01 00:00:00|   7|           769.7299999999999|            45|\n",
      "|2020-01-01 00:00:00|  17|                      195.03|             9|\n",
      "|2020-01-01 00:00:00|  18|                         7.8|             1|\n",
      "|2020-01-01 00:00:00|  22|                        15.8|             1|\n",
      "|2020-01-01 00:00:00|  24|                        87.6|             3|\n",
      "|2020-01-01 00:00:00|  25|                       531.0|            26|\n",
      "|2020-01-01 00:00:00|  29|                        61.3|             1|\n",
      "|2020-01-01 00:00:00|  32|           68.94999999999999|             2|\n",
      "|2020-01-01 00:00:00|  33|                      317.27|            11|\n",
      "|2020-01-01 00:00:00|  35|                      129.96|             5|\n",
      "|2020-01-01 00:00:00|  36|                      295.34|            11|\n",
      "|2020-01-01 00:00:00|  37|                      175.67|             6|\n",
      "|2020-01-01 00:00:00|  38|           98.78999999999999|             2|\n",
      "|2020-01-01 00:00:00|  40|                      168.98|             8|\n",
      "|2020-01-01 00:00:00|  41|          1363.9599999999991|            84|\n",
      "|2020-01-01 00:00:00|  42|           799.7599999999996|            52|\n",
      "|2020-01-01 00:00:00|  43|                      107.52|             6|\n",
      "|2020-01-01 00:00:00|  47|                        13.3|             1|\n",
      "|2020-01-01 00:00:00|  49|          266.76000000000005|            14|\n",
      "|2020-01-01 00:00:00|  51|                        17.8|             2|\n",
      "+-------------------+----+----------------------------+--------------+\n",
      "only showing top 20 rows\n",
      "\n"
     ]
    }
   ],
   "source": [
    "df_green_revenue.show()"
   ]
  },
  {
   "cell_type": "code",
   "execution_count": 17,
   "id": "1bafca67-a234-4a6a-9aef-c9e6eb50549d",
   "metadata": {},
   "outputs": [],
   "source": [
    "df_green_revenue\\\n",
    "    .repartition(10)\\\n",
    "    .write.parquet('data/report/revenue/green',mode='overwrite')"
   ]
  },
  {
   "cell_type": "code",
   "execution_count": 14,
   "id": "1958c621-8e0a-4eb8-a040-c2dd66603c19",
   "metadata": {},
   "outputs": [],
   "source": [
    "df_yellow = spark.read.parquet('data/pq/yellow/*/*')\n",
    "df_yellow.registerTempTable(\"yellow\")"
   ]
  },
  {
   "cell_type": "code",
   "execution_count": 15,
   "id": "8797eb8d-2211-4d87-bf68-c2f05d99f67d",
   "metadata": {},
   "outputs": [],
   "source": [
    "df_yellow_revenue = spark.sql(\"\"\"\n",
    "SELECT \n",
    "    -- Reveneue grouping \n",
    "    date_trunc('hour', tpep_pickup_datetime) AS hour,  \n",
    "    PULocationID AS  zone,\n",
    "\n",
    "    -- Revenue calculation  \n",
    "    SUM(total_amount) AS revenue_monthly_total_amount,\n",
    "    COUNT(1) AS number_records\n",
    " \n",
    "FROM\n",
    "    yellow\n",
    "WHERE\n",
    "    tpep_pickup_datetime >='2020-01-01 00:00:00'\n",
    "GROUP BY\n",
    "    1, 2 \n",
    "ORDER BY\n",
    "    1,2\n",
    "\"\"\")"
   ]
  },
  {
   "cell_type": "code",
   "execution_count": 18,
   "id": "38aa8791-0717-4bee-abb5-659f877eca67",
   "metadata": {},
   "outputs": [],
   "source": [
    "df_yellow_revenue\\\n",
    "    .repartition(10)\\\n",
    "    .write.parquet('data/report/revenue/yellow',mode='overwrite')"
   ]
  },
  {
   "cell_type": "code",
   "execution_count": 29,
   "id": "2651e6a0-c887-4cb2-a735-eeacc58f95d4",
   "metadata": {},
   "outputs": [],
   "source": [
    "df_green_revenue_tmp = df_green_revenue\\\n",
    "                        .withColumnRenamed('revenue_monthly_total_amount','green_amount')\\\n",
    "                        .withColumnRenamed('number_records', 'green_number_records')\n",
    "\n",
    "df_yellow_revenue_tmp = df_green_revenue\\\n",
    "                        .withColumnRenamed('revenue_monthly_total_amount','yellow_amount')\\\n",
    "                        .withColumnRenamed('number_records', 'yellow_number_records')"
   ]
  },
  {
   "cell_type": "code",
   "execution_count": 30,
   "id": "a71be142-711b-4dc5-930d-c97fe1655f8f",
   "metadata": {},
   "outputs": [],
   "source": [
    "# null if there is missing value\n",
    "df_join = df_green_revenue_tmp.join(df_yellow_revenue_tmp, on=['hour','zone'], how ='outer') "
   ]
  },
  {
   "cell_type": "code",
   "execution_count": 31,
   "id": "bf7df4a1-7f66-4cec-9dd0-ed4aa2e2fd7d",
   "metadata": {
    "scrolled": true
   },
   "outputs": [
    {
     "name": "stdout",
     "output_type": "stream",
     "text": [
      "+-------------------+----+------------------+--------------------+------------------+---------------------+\n",
      "|               hour|zone|      green_amount|green_number_records|     yellow_amount|yellow_number_records|\n",
      "+-------------------+----+------------------+--------------------+------------------+---------------------+\n",
      "|2020-01-01 00:00:00|  65|199.48999999999998|                  10|199.48999999999998|                   10|\n",
      "|2020-01-01 00:00:00| 106|             10.56|                   1|             10.56|                    1|\n",
      "|2020-01-01 01:00:00|  83|             87.34|                   8|             87.34|                    8|\n",
      "|2020-01-01 01:00:00| 126|              15.8|                   1|              15.8|                    1|\n",
      "|2020-01-01 01:00:00| 134|             34.86|                   4|             34.86|                    4|\n",
      "|2020-01-01 02:00:00|  21|             43.95|                   2|             43.95|                    2|\n",
      "|2020-01-01 02:00:00|  35|            193.82|                   5|            193.82|                    5|\n",
      "|2020-01-01 02:00:00|  77|            137.72|                   5|            137.72|                    5|\n",
      "|2020-01-01 02:00:00| 108|              20.8|                   1|              20.8|                    1|\n",
      "|2020-01-01 02:00:00| 212|164.26999999999998|                   4|164.26999999999998|                    4|\n",
      "|2020-01-01 02:00:00| 220|              34.3|                   1|              34.3|                    1|\n",
      "|2020-01-01 02:00:00| 255|            425.51|                  21|            425.51|                   21|\n",
      "|2020-01-01 03:00:00|  25|            275.85|                  15|            275.85|                   15|\n",
      "|2020-01-01 03:00:00|  52|             18.05|                   1|             18.05|                    1|\n",
      "|2020-01-01 03:00:00|  95|            242.04|                  19|            242.04|                   19|\n",
      "|2020-01-01 03:00:00| 119|               9.3|                   1|               9.3|                    1|\n",
      "|2020-01-01 03:00:00| 147| 86.25999999999999|                   3| 86.25999999999999|                    3|\n",
      "|2020-01-01 03:00:00| 173|59.599999999999994|                   7|59.599999999999994|                    7|\n",
      "|2020-01-01 04:00:00|  14|              35.1|                   3|              35.1|                    3|\n",
      "|2020-01-01 04:00:00|  69|              41.2|                   4|              41.2|                    4|\n",
      "+-------------------+----+------------------+--------------------+------------------+---------------------+\n",
      "only showing top 20 rows\n",
      "\n"
     ]
    }
   ],
   "source": [
    "df_join.show()"
   ]
  },
  {
   "cell_type": "code",
   "execution_count": 32,
   "id": "777dd88a-570d-46fc-aa29-427667931ecf",
   "metadata": {},
   "outputs": [],
   "source": [
    "df_join.write.parquet('data/report/revenue/total')"
   ]
  },
  {
   "cell_type": "code",
   "execution_count": 33,
   "id": "f55891e1-96e9-475b-91c4-9b3233303cce",
   "metadata": {},
   "outputs": [],
   "source": [
    "df_join = spark.read.parquet('data/report/revenue/total')"
   ]
  },
  {
   "cell_type": "code",
   "execution_count": 34,
   "id": "475ddd91-9e9a-4040-b547-7bb7a63942d4",
   "metadata": {},
   "outputs": [],
   "source": [
    "df_zones = spark.read.parquet('zones/')"
   ]
  },
  {
   "cell_type": "code",
   "execution_count": 35,
   "id": "d313cf57-4d24-4597-ace3-0c307e396240",
   "metadata": {},
   "outputs": [
    {
     "name": "stdout",
     "output_type": "stream",
     "text": [
      "+----------+-------------+--------------------+------------+\n",
      "|LocationID|      Borough|                Zone|service_zone|\n",
      "+----------+-------------+--------------------+------------+\n",
      "|         1|          EWR|      Newark Airport|         EWR|\n",
      "|         2|       Queens|         Jamaica Bay|   Boro Zone|\n",
      "|         3|        Bronx|Allerton/Pelham G...|   Boro Zone|\n",
      "|         4|    Manhattan|       Alphabet City| Yellow Zone|\n",
      "|         5|Staten Island|       Arden Heights|   Boro Zone|\n",
      "|         6|Staten Island|Arrochar/Fort Wad...|   Boro Zone|\n",
      "|         7|       Queens|             Astoria|   Boro Zone|\n",
      "|         8|       Queens|        Astoria Park|   Boro Zone|\n",
      "|         9|       Queens|          Auburndale|   Boro Zone|\n",
      "|        10|       Queens|        Baisley Park|   Boro Zone|\n",
      "|        11|     Brooklyn|          Bath Beach|   Boro Zone|\n",
      "|        12|    Manhattan|        Battery Park| Yellow Zone|\n",
      "|        13|    Manhattan|   Battery Park City| Yellow Zone|\n",
      "|        14|     Brooklyn|           Bay Ridge|   Boro Zone|\n",
      "|        15|       Queens|Bay Terrace/Fort ...|   Boro Zone|\n",
      "|        16|       Queens|             Bayside|   Boro Zone|\n",
      "|        17|     Brooklyn|             Bedford|   Boro Zone|\n",
      "|        18|        Bronx|        Bedford Park|   Boro Zone|\n",
      "|        19|       Queens|           Bellerose|   Boro Zone|\n",
      "|        20|        Bronx|             Belmont|   Boro Zone|\n",
      "+----------+-------------+--------------------+------------+\n",
      "only showing top 20 rows\n",
      "\n"
     ]
    }
   ],
   "source": [
    "df_zones.show()"
   ]
  },
  {
   "cell_type": "code",
   "execution_count": 37,
   "id": "4abb03f8-2e6a-4305-b62a-48f298317b4c",
   "metadata": {},
   "outputs": [],
   "source": [
    "df_results = df_join.join(df_zones, df_join.zone == df_zones.LocationID)"
   ]
  },
  {
   "cell_type": "code",
   "execution_count": 40,
   "id": "2558552a-b742-4116-93ac-f1e3daca4d91",
   "metadata": {},
   "outputs": [
    {
     "name": "stdout",
     "output_type": "stream",
     "text": [
      "+-------------------+----+------------------+--------------------+------------------+---------------------+---------+--------------------+------------+\n",
      "|               hour|zone|      green_amount|green_number_records|     yellow_amount|yellow_number_records|  Borough|                Zone|service_zone|\n",
      "+-------------------+----+------------------+--------------------+------------------+---------------------+---------+--------------------+------------+\n",
      "|2020-01-01 00:00:00|  32| 68.94999999999999|                   2| 68.94999999999999|                    2|    Bronx|           Bronxdale|   Boro Zone|\n",
      "|2020-01-01 00:00:00|  41|1363.9599999999991|                  84|1363.9599999999991|                   84|Manhattan|      Central Harlem|   Boro Zone|\n",
      "|2020-01-01 00:00:00|  55|            129.29|                   4|            129.29|                    4| Brooklyn|        Coney Island|   Boro Zone|\n",
      "|2020-01-01 00:00:00|  63|              51.9|                   2|              51.9|                    2| Brooklyn|       Cypress Hills|   Boro Zone|\n",
      "|2020-01-01 00:00:00| 119| 67.77000000000001|                   4| 67.77000000000001|                    4|    Bronx|          Highbridge|   Boro Zone|\n",
      "|2020-01-01 00:00:00| 174|              21.7|                   1|              21.7|                    1|    Bronx|             Norwood|   Boro Zone|\n",
      "|2020-01-01 00:00:00| 193|               8.3|                   1|               8.3|                    1|   Queens|Queensbridge/Rave...|   Boro Zone|\n",
      "|2020-01-01 01:00:00|  37|             88.16|                   4|             88.16|                    4| Brooklyn|      Bushwick South|   Boro Zone|\n",
      "|2020-01-01 01:00:00|  39|            156.34|                   6|            156.34|                    6| Brooklyn|            Canarsie|   Boro Zone|\n",
      "|2020-01-01 01:00:00|  56|              29.6|                   2|              29.6|                    2|   Queens|              Corona|   Boro Zone|\n",
      "|2020-01-01 01:00:00|  70|              18.6|                   2|              18.6|                    2|   Queens|       East Elmhurst|   Boro Zone|\n",
      "|2020-01-01 01:00:00|  77|             64.66|                   2|             64.66|                    2| Brooklyn|East New York/Pen...|   Boro Zone|\n",
      "|2020-01-01 01:00:00| 152|             42.14|                   4|             42.14|                    4|Manhattan|      Manhattanville|   Boro Zone|\n",
      "|2020-01-01 01:00:00| 228|             47.31|                   1|             47.31|                    1| Brooklyn|    Sunset Park West|   Boro Zone|\n",
      "|2020-01-01 01:00:00| 243| 86.39000000000001|                   5| 86.39000000000001|                    5|Manhattan|Washington Height...|   Boro Zone|\n",
      "|2020-01-01 01:00:00| 257|             88.28|                   3|             88.28|                    3| Brooklyn|     Windsor Terrace|   Boro Zone|\n",
      "|2020-01-01 02:00:00|  49|198.29999999999998|                  12|198.29999999999998|                   12| Brooklyn|        Clinton Hill|   Boro Zone|\n",
      "|2020-01-01 02:00:00|  52|             51.42|                   2|             51.42|                    2| Brooklyn|         Cobble Hill|   Boro Zone|\n",
      "|2020-01-01 02:00:00|  90|             96.08|                   2|             96.08|                    2|Manhattan|            Flatiron| Yellow Zone|\n",
      "|2020-01-01 02:00:00| 112|            417.35|                  20|            417.35|                   20| Brooklyn|          Greenpoint|   Boro Zone|\n",
      "+-------------------+----+------------------+--------------------+------------------+---------------------+---------+--------------------+------------+\n",
      "only showing top 20 rows\n",
      "\n"
     ]
    }
   ],
   "source": [
    "df_results.drop('LocationID').show()"
   ]
  },
  {
   "cell_type": "code",
   "execution_count": 42,
   "id": "9dd272d1-9733-4777-97ec-c00c930d5320",
   "metadata": {},
   "outputs": [],
   "source": [
    "df_results.drop('LocationID','zone').write.parquet('tmp/revenue-zones')"
   ]
  },
  {
   "cell_type": "code",
   "execution_count": null,
   "id": "3fc4caa2-234c-42c1-b2af-4cbbb79f3ca2",
   "metadata": {},
   "outputs": [],
   "source": []
  }
 ],
 "metadata": {
  "kernelspec": {
   "display_name": "Python 3 (ipykernel)",
   "language": "python",
   "name": "python3"
  },
  "language_info": {
   "codemirror_mode": {
    "name": "ipython",
    "version": 3
   },
   "file_extension": ".py",
   "mimetype": "text/x-python",
   "name": "python",
   "nbconvert_exporter": "python",
   "pygments_lexer": "ipython3",
   "version": "3.11.8"
  }
 },
 "nbformat": 4,
 "nbformat_minor": 5
}
