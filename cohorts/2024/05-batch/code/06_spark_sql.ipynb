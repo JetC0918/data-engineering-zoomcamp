{
 "cells": [
  {
   "cell_type": "code",
   "execution_count": 1,
   "id": "04775625-7304-4659-851e-343ec572c865",
   "metadata": {},
   "outputs": [],
   "source": [
    "import pyspark\n",
    "from pyspark.sql import SparkSession\n",
    "\n",
    "spark = SparkSession.builder \\\n",
    "    .master(\"local[*]\") \\\n",
    "    .appName('test') \\\n",
    "    .getOrCreate()"
   ]
  },
  {
   "cell_type": "code",
   "execution_count": 2,
   "id": "05977e3e-02c0-410a-a872-09cdda302897",
   "metadata": {},
   "outputs": [
    {
     "name": "stdout",
     "output_type": "stream",
     "text": [
      "Name: pyspark\n",
      "Version: 3.5.1\n",
      "Summary: Apache Spark Python API\n",
      "Home-page: https://github.com/apache/spark/tree/master/python\n",
      "Author: Spark Developers\n",
      "Author-email: dev@spark.apache.org\n",
      "License: http://www.apache.org/licenses/LICENSE-2.0\n",
      "Location: C:\\Users\\crab\\AppData\\Local\\Programs\\Python\\Python311\\Lib\\site-packages\n",
      "Requires: py4j\n",
      "Required-by: \n",
      "Note: you may need to restart the kernel to use updated packages.\n"
     ]
    }
   ],
   "source": [
    "pip show pyspark"
   ]
  },
  {
   "cell_type": "code",
   "execution_count": 3,
   "id": "cffcf90c-05c8-4a1c-8b70-d062164631f5",
   "metadata": {},
   "outputs": [
    {
     "name": "stdout",
     "output_type": "stream",
     "text": [
      "Pyspark version 3.5.1\n",
      "Spark version 3.5.1\n"
     ]
    }
   ],
   "source": [
    "print(\"Pyspark version\", pyspark.__version__)\n",
    "print(\"Spark version\", spark.version)"
   ]
  },
  {
   "cell_type": "code",
   "execution_count": 4,
   "id": "aa0e1099-65f3-4309-9630-b511c2bf8f18",
   "metadata": {},
   "outputs": [],
   "source": [
    "df = spark.sql(\"\"\"SELECT 'hello' AS message\"\"\")"
   ]
  },
  {
   "cell_type": "code",
   "execution_count": 14,
   "id": "364c177b-b8f2-4d40-a2ff-c4c477997ffd",
   "metadata": {},
   "outputs": [],
   "source": [
    "df_green = spark.read.parquet('data/pq/green/*/*')"
   ]
  },
  {
   "cell_type": "code",
   "execution_count": 15,
   "id": "a80f0ab8-2f93-49cb-beb0-9f736cbb19d2",
   "metadata": {},
   "outputs": [],
   "source": [
    "df_yellow = spark.read.parquet('data/pq/yellow/*/*')"
   ]
  },
  {
   "cell_type": "code",
   "execution_count": 16,
   "id": "2bf81409-b7dc-48c0-8bbc-dd7b46cf361f",
   "metadata": {
    "scrolled": true
   },
   "outputs": [
    {
     "data": {
      "text/plain": [
       "['VendorID',\n",
       " 'lpep_pickup_datetime',\n",
       " 'lpep_dropoff_datetime',\n",
       " 'store_and_fwd_flag',\n",
       " 'RatecodeID',\n",
       " 'PULocationID',\n",
       " 'DOLocationID',\n",
       " 'passenger_count',\n",
       " 'trip_distance',\n",
       " 'fare_amount',\n",
       " 'extra',\n",
       " 'mta_tax',\n",
       " 'tip_amount',\n",
       " 'tolls_amount',\n",
       " 'ehail_fee',\n",
       " 'improvement_surcharge',\n",
       " 'total_amount',\n",
       " 'payment_type',\n",
       " 'trip_type',\n",
       " 'congestion_surcharge']"
      ]
     },
     "execution_count": 16,
     "metadata": {},
     "output_type": "execute_result"
    }
   ],
   "source": [
    "df_green.columns"
   ]
  },
  {
   "cell_type": "code",
   "execution_count": 17,
   "id": "c5029f58-68cc-4bad-babc-0fc9058942e3",
   "metadata": {},
   "outputs": [
    {
     "data": {
      "text/plain": [
       "['VendorID',\n",
       " 'tpep_pickup_datetime',\n",
       " 'tpep_dropoff_datetime',\n",
       " 'passenger_count',\n",
       " 'trip_distance',\n",
       " 'RatecodeID',\n",
       " 'store_and_fwd_flag',\n",
       " 'PULocationID',\n",
       " 'DOLocationID',\n",
       " 'payment_type',\n",
       " 'fare_amount',\n",
       " 'extra',\n",
       " 'mta_tax',\n",
       " 'tip_amount',\n",
       " 'tolls_amount',\n",
       " 'improvement_surcharge',\n",
       " 'total_amount',\n",
       " 'congestion_surcharge']"
      ]
     },
     "execution_count": 17,
     "metadata": {},
     "output_type": "execute_result"
    }
   ],
   "source": [
    "df_yellow.columns"
   ]
  },
  {
   "cell_type": "code",
   "execution_count": 18,
   "id": "6dcaa695-ff00-45ee-8673-01e9278b2c0e",
   "metadata": {},
   "outputs": [
    {
     "data": {
      "text/plain": [
       "{'DOLocationID',\n",
       " 'PULocationID',\n",
       " 'RatecodeID',\n",
       " 'VendorID',\n",
       " 'congestion_surcharge',\n",
       " 'extra',\n",
       " 'fare_amount',\n",
       " 'improvement_surcharge',\n",
       " 'mta_tax',\n",
       " 'passenger_count',\n",
       " 'payment_type',\n",
       " 'store_and_fwd_flag',\n",
       " 'tip_amount',\n",
       " 'tolls_amount',\n",
       " 'total_amount',\n",
       " 'trip_distance'}"
      ]
     },
     "execution_count": 18,
     "metadata": {},
     "output_type": "execute_result"
    }
   ],
   "source": [
    "#Get columns that both datasets has\n",
    "set(df_green.columns) & set (df_yellow.columns)"
   ]
  },
  {
   "cell_type": "code",
   "execution_count": 19,
   "id": "ca967a36-85e8-4350-bba9-d73c4c6b5930",
   "metadata": {},
   "outputs": [],
   "source": [
    "df_green = df_green\\\n",
    "    .withColumnRenamed('lpep_pickup_datetime', 'pickup_datetime')\\\n",
    "    .withColumnRenamed('lpep_dropoff_datetime', 'dropoff_datetime')"
   ]
  },
  {
   "cell_type": "code",
   "execution_count": 20,
   "id": "5e543827-65e5-46ad-aaa5-408c360ccb97",
   "metadata": {},
   "outputs": [
    {
     "data": {
      "text/plain": [
       "['VendorID',\n",
       " 'pickup_datetime',\n",
       " 'dropoff_datetime',\n",
       " 'store_and_fwd_flag',\n",
       " 'RatecodeID',\n",
       " 'PULocationID',\n",
       " 'DOLocationID',\n",
       " 'passenger_count',\n",
       " 'trip_distance',\n",
       " 'fare_amount',\n",
       " 'extra',\n",
       " 'mta_tax',\n",
       " 'tip_amount',\n",
       " 'tolls_amount',\n",
       " 'ehail_fee',\n",
       " 'improvement_surcharge',\n",
       " 'total_amount',\n",
       " 'payment_type',\n",
       " 'trip_type',\n",
       " 'congestion_surcharge']"
      ]
     },
     "execution_count": 20,
     "metadata": {},
     "output_type": "execute_result"
    }
   ],
   "source": [
    "df_green.columns"
   ]
  },
  {
   "cell_type": "code",
   "execution_count": 21,
   "id": "fb94c43a-da58-4d08-b9e4-79c08fecb9c4",
   "metadata": {},
   "outputs": [],
   "source": [
    "df_yellow = df_yellow\\\n",
    "    .withColumnRenamed('tpep_pickup_datetime', 'pickup_datetime')\\\n",
    "    .withColumnRenamed('tpep_dropoff_datetime', 'dropoff_datetime')"
   ]
  },
  {
   "cell_type": "code",
   "execution_count": 22,
   "id": "0cd9767d-1c33-4955-b919-c5173ace51d9",
   "metadata": {},
   "outputs": [
    {
     "data": {
      "text/plain": [
       "['VendorID',\n",
       " 'pickup_datetime',\n",
       " 'dropoff_datetime',\n",
       " 'passenger_count',\n",
       " 'trip_distance',\n",
       " 'RatecodeID',\n",
       " 'store_and_fwd_flag',\n",
       " 'PULocationID',\n",
       " 'DOLocationID',\n",
       " 'payment_type',\n",
       " 'fare_amount',\n",
       " 'extra',\n",
       " 'mta_tax',\n",
       " 'tip_amount',\n",
       " 'tolls_amount',\n",
       " 'improvement_surcharge',\n",
       " 'total_amount',\n",
       " 'congestion_surcharge']"
      ]
     },
     "execution_count": 22,
     "metadata": {},
     "output_type": "execute_result"
    }
   ],
   "source": [
    "df_yellow.columns"
   ]
  },
  {
   "cell_type": "code",
   "execution_count": 23,
   "id": "dd0d16ac-d3af-435b-8448-97b6db5f6939",
   "metadata": {},
   "outputs": [
    {
     "data": {
      "text/plain": [
       "{'DOLocationID',\n",
       " 'PULocationID',\n",
       " 'RatecodeID',\n",
       " 'VendorID',\n",
       " 'congestion_surcharge',\n",
       " 'dropoff_datetime',\n",
       " 'extra',\n",
       " 'fare_amount',\n",
       " 'improvement_surcharge',\n",
       " 'mta_tax',\n",
       " 'passenger_count',\n",
       " 'payment_type',\n",
       " 'pickup_datetime',\n",
       " 'store_and_fwd_flag',\n",
       " 'tip_amount',\n",
       " 'tolls_amount',\n",
       " 'total_amount',\n",
       " 'trip_distance'}"
      ]
     },
     "execution_count": 23,
     "metadata": {},
     "output_type": "execute_result"
    }
   ],
   "source": [
    "#Get columns that both datasets has\n",
    "set(df_green.columns) & set (df_yellow.columns)"
   ]
  },
  {
   "cell_type": "code",
   "execution_count": 24,
   "id": "e0a22764-bd79-4b60-97b0-deba2b3ad847",
   "metadata": {},
   "outputs": [],
   "source": [
    "common_cols = []\n",
    "\n",
    "yellow_cols = set(df_yellow.columns)\n",
    "\n",
    "for col in df_green.columns:\n",
    "    if col in yellow_cols:\n",
    "        common_cols.append(col)"
   ]
  },
  {
   "cell_type": "code",
   "execution_count": 25,
   "id": "0a3f5e18-be8a-4d07-baae-c6d3e89ba398",
   "metadata": {},
   "outputs": [
    {
     "data": {
      "text/plain": [
       "['VendorID',\n",
       " 'pickup_datetime',\n",
       " 'dropoff_datetime',\n",
       " 'store_and_fwd_flag',\n",
       " 'RatecodeID',\n",
       " 'PULocationID',\n",
       " 'DOLocationID',\n",
       " 'passenger_count',\n",
       " 'trip_distance',\n",
       " 'fare_amount',\n",
       " 'extra',\n",
       " 'mta_tax',\n",
       " 'tip_amount',\n",
       " 'tolls_amount',\n",
       " 'improvement_surcharge',\n",
       " 'total_amount',\n",
       " 'payment_type',\n",
       " 'congestion_surcharge']"
      ]
     },
     "execution_count": 25,
     "metadata": {},
     "output_type": "execute_result"
    }
   ],
   "source": [
    "common_cols"
   ]
  },
  {
   "cell_type": "code",
   "execution_count": 26,
   "id": "5673c392-e386-4b62-ac92-e4b7e5b339b3",
   "metadata": {},
   "outputs": [],
   "source": [
    "from pyspark.sql import functions as F"
   ]
  },
  {
   "cell_type": "code",
   "execution_count": 27,
   "id": "b05a841b-c8e9-4e87-a850-2fc02dc8ed17",
   "metadata": {},
   "outputs": [],
   "source": [
    "df_green_sel = df_green\\\n",
    "    .select(common_cols)\\\n",
    "    .withColumn('service_type',F.lit('green'))"
   ]
  },
  {
   "cell_type": "code",
   "execution_count": 28,
   "id": "dda0215e-43bc-4390-a35e-d3801b60d5cd",
   "metadata": {},
   "outputs": [],
   "source": [
    "df_yellow_sel = df_yellow\\\n",
    "    .select(common_cols)\\\n",
    "    .withColumn('service_type',F.lit('yellow'))"
   ]
  },
  {
   "cell_type": "code",
   "execution_count": 29,
   "id": "6f99010c-8ea4-4657-88a2-9568e24e643b",
   "metadata": {},
   "outputs": [],
   "source": [
    "df_trips_data = df_green_sel.unionAll(df_yellow_sel)"
   ]
  },
  {
   "cell_type": "code",
   "execution_count": 54,
   "id": "9aad1738-621d-4765-beea-b51fc0e7eddc",
   "metadata": {},
   "outputs": [
    {
     "name": "stdout",
     "output_type": "stream",
     "text": [
      "+------------+--------+\n",
      "|service_type|   count|\n",
      "+------------+--------+\n",
      "|       green| 2304517|\n",
      "|      yellow|39649199|\n",
      "+------------+--------+\n",
      "\n"
     ]
    }
   ],
   "source": [
    "df_trips_data.groupBy('service_type').count().show()"
   ]
  },
  {
   "cell_type": "code",
   "execution_count": 31,
   "id": "20128efc-04a7-463d-a3cb-faca4fccb7a6",
   "metadata": {},
   "outputs": [
    {
     "name": "stderr",
     "output_type": "stream",
     "text": [
      "C:\\Users\\crab\\AppData\\Local\\Programs\\Python\\Python311\\Lib\\site-packages\\pyspark\\sql\\dataframe.py:329: FutureWarning: Deprecated in 2.0, use createOrReplaceTempView instead.\n",
      "  warnings.warn(\"Deprecated in 2.0, use createOrReplaceTempView instead.\", FutureWarning)\n"
     ]
    }
   ],
   "source": [
    "df_trips_data.registerTempTable('trips_data')"
   ]
  },
  {
   "cell_type": "code",
   "execution_count": 32,
   "id": "28795da7-9566-4ffe-a231-0d88511a7d73",
   "metadata": {},
   "outputs": [
    {
     "name": "stdout",
     "output_type": "stream",
     "text": [
      "+--------+-------------------+-------------------+------------------+----------+------------+------------+---------------+-------------+-----------+-----+-------+----------+------------+---------------------+------------+------------+--------------------+------------+\n",
      "|VendorID|    pickup_datetime|   dropoff_datetime|store_and_fwd_flag|RatecodeID|PULocationID|DOLocationID|passenger_count|trip_distance|fare_amount|extra|mta_tax|tip_amount|tolls_amount|improvement_surcharge|total_amount|payment_type|congestion_surcharge|service_type|\n",
      "+--------+-------------------+-------------------+------------------+----------+------------+------------+---------------+-------------+-----------+-----+-------+----------+------------+---------------------+------------+------------+--------------------+------------+\n",
      "|       2|2020-01-14 13:28:09|2020-01-14 13:35:19|                 N|         1|          74|          75|              1|         1.35|        7.0|  0.0|    0.5|      1.56|         0.0|                  0.3|        9.36|           1|                 0.0|       green|\n",
      "|       2|2020-01-28 12:11:44|2020-01-28 12:25:21|                 N|         1|         129|         179|              1|         3.73|       13.5|  0.0|    0.5|       1.0|         0.0|                  0.3|        15.3|           1|                 0.0|       green|\n",
      "|    NULL|2020-01-04 11:38:00|2020-01-04 12:11:00|              NULL|      NULL|          25|          41|           NULL|        11.19|      28.38|  0.0|    0.5|       0.0|         0.0|                  0.0|       28.88|        NULL|                NULL|       green|\n",
      "|       2|2020-01-30 10:03:36|2020-01-30 10:09:55|                 N|         5|         182|         242|              1|         1.32|       12.0|  0.0|    0.0|       0.0|         0.0|                  0.3|        12.3|           1|                 0.0|       green|\n",
      "|       1|2020-01-30 20:56:17|2020-01-30 21:00:18|                 N|         1|         210|         210|              1|          0.8|        5.0|  0.5|    0.5|       0.7|         0.0|                  0.3|         7.0|           1|                 0.0|       green|\n",
      "|       2|2020-01-06 14:40:15|2020-01-06 14:51:55|                 N|         1|          33|          66|              1|         1.24|        8.5|  0.0|    0.5|       0.0|         0.0|                  0.3|         9.3|           2|                 0.0|       green|\n",
      "|       2|2020-01-09 18:01:49|2020-01-09 18:05:28|                 N|         1|          42|         116|              1|         0.52|        4.5|  1.0|    0.5|       0.0|         0.0|                  0.3|         6.3|           2|                 0.0|       green|\n",
      "|       2|2020-01-29 04:39:21|2020-01-29 04:42:02|                 N|         1|         116|         116|              1|         0.58|        4.5|  0.5|    0.5|      0.01|         0.0|                  0.3|        5.81|           1|                 0.0|       green|\n",
      "|    NULL|2020-01-09 15:01:00|2020-01-09 15:28:00|              NULL|      NULL|         223|          92|           NULL|         6.79|      20.81|  0.0|    0.0|       0.0|         0.0|                  0.3|       21.11|        NULL|                NULL|       green|\n",
      "|       2|2020-01-31 08:32:25|2020-01-31 09:27:29|                 N|         1|          55|          55|              1|         9.69|       37.5|  0.0|    0.5|       0.0|         0.0|                  0.3|        38.3|           2|                 0.0|       green|\n",
      "+--------+-------------------+-------------------+------------------+----------+------------+------------+---------------+-------------+-----------+-----+-------+----------+------------+---------------------+------------+------------+--------------------+------------+\n",
      "\n"
     ]
    }
   ],
   "source": [
    "spark.sql(\"\"\"\n",
    "SELECT * FROM trips_data LIMIT 10;\n",
    "\"\"\").show()"
   ]
  },
  {
   "cell_type": "code",
   "execution_count": 55,
   "id": "f13c1d6c-96ed-4b80-b046-95a401b59e11",
   "metadata": {},
   "outputs": [
    {
     "name": "stdout",
     "output_type": "stream",
     "text": [
      "+------------+--------+\n",
      "|service_type|count(1)|\n",
      "+------------+--------+\n",
      "|       green| 2304517|\n",
      "|      yellow|39649199|\n",
      "+------------+--------+\n",
      "\n"
     ]
    }
   ],
   "source": [
    "spark.sql(\"\"\"\n",
    "SELECT \n",
    "    service_type,\n",
    "    count (1)\n",
    "FROM \n",
    "    trips_data \n",
    "GROUP BY\n",
    "    service_type\n",
    "\"\"\").show()"
   ]
  },
  {
   "cell_type": "code",
   "execution_count": 56,
   "id": "a260f862-834e-4083-a8d5-ed5bc86a93ec",
   "metadata": {},
   "outputs": [],
   "source": [
    "df_result = spark.sql(\"\"\"\n",
    "SELECT \n",
    "    -- Reveneue grouping \n",
    "    PULocationID AS revenue_zone,\n",
    "    date_trunc('month', pickup_datetime) AS revenue_month, \n",
    "    service_type, \n",
    "\n",
    "    -- Revenue calculation \n",
    "    SUM(fare_amount) AS revenue_monthly_fare,\n",
    "    SUM(extra) AS revenue_monthly_extra,\n",
    "    SUM(mta_tax) AS revenue_monthly_mta_tax,\n",
    "    SUM(tip_amount) AS revenue_monthly_tip_amount,\n",
    "    SUM(tolls_amount) AS revenue_monthly_tolls_amount,\n",
    "    SUM(improvement_surcharge) AS revenue_monthly_improvement_surcharge,\n",
    "    SUM(total_amount) AS revenue_monthly_total_amount,\n",
    "    SUM(congestion_surcharge) AS revenue_monthly_congestion_surcharge,\n",
    "\n",
    "    -- Additional calculations\n",
    "    AVG(passenger_count) AS avg_montly_passenger_count,\n",
    "    AVG(trip_distance) AS avg_montly_trip_distance\n",
    "FROM\n",
    "    trips_data\n",
    "GROUP BY\n",
    "    1, 2, 3\n",
    "\"\"\")"
   ]
  },
  {
   "cell_type": "code",
   "execution_count": 39,
   "id": "3366d8f3-ba17-4950-b4ca-49be645c8182",
   "metadata": {},
   "outputs": [
    {
     "name": "stdout",
     "output_type": "stream",
     "text": [
      "+------------+-------------+------------+--------------------+---------------------+-----------------------+--------------------------+----------------------------+-------------------------------------+----------------------------+------------------------------------+---------------------------+-------------------------+\n",
      "|revenue_zone|revenue_month|service_type|revenue_monthly_fare|revenue_monthly_extra|revenue_monthly_mta_tax|revenue_monthly_tip_amount|revenue_monthly_tolls_amount|revenue_monthly_improvement_surcharge|revenue_monthly_total_amount|revenue_monthly_congestion_surcharge|avg_monthly_passenger_count|avg_monthly_trip_distance|\n",
      "+------------+-------------+------------+--------------------+---------------------+-----------------------+--------------------------+----------------------------+-------------------------------------+----------------------------+------------------------------------+---------------------------+-------------------------+\n",
      "|         254|         NULL|       green|   278150.7099999998|   11320.520000000002|                  854.5|                    9569.9|          13415.779999999997|                    2786.100000000019|           316342.1099999995|                                22.0|          1.138095238095238|       249.57145962406807|\n",
      "|          38|         NULL|       green|   82767.60999999994|               2537.6|                  237.5|        2433.5299999999997|           3530.910000000001|                    664.1999999999991|           92221.80000000005|                                2.75|         1.1342925659472423|        151.5832342657343|\n",
      "|         229|         NULL|       green|            13658.47|                689.3|                   23.0|                    388.43|                       789.1|                   132.00000000000006|                    15699.05|                               13.25|         1.2222222222222223|        8.259659863945577|\n",
      "|         188|         NULL|       green|   430873.5500000019|             21162.42|                 1931.0|        19095.489999999998|           6813.590000000004|                    5714.400000000121|           486763.9999999975|                              348.75|         1.1596080910240203|         82.2765444945663|\n",
      "|         232|         NULL|       green|  40609.979999999996|   1913.9499999999998|                  64.55|        1314.6000000000001|          1395.4099999999996|                   403.50000000000006|           45729.54000000001|                                5.25|          1.069767441860465|       261.16848552338536|\n",
      "|          91|         NULL|       green|  250313.22000000096|   12562.130000000001|                  787.0|         8716.689999999999|           6357.610000000003|                    2745.300000000019|          281822.24999999977|                                11.0|         1.1644120707596255|        150.8649021249869|\n",
      "|         134|         NULL|       green|  237161.71000000008|   10112.500000000002|                 5852.0|        17749.850000000002|           4267.540000000002|                     4513.19999999994|          280469.15000000055|                              734.25|         1.3807110815750125|        14.59256880131363|\n",
      "|         241|         NULL|       green|  146435.96999999997|    4976.450000000001|                  874.5|                   5909.28|           5791.600000000003|                   1537.1999999999914|          165902.94999999992|                                82.5|         1.1257344300822563|       142.77369097091054|\n",
      "|         101|         NULL|       green|   39496.08999999999|   1367.1999999999998|                  112.0|        1092.3700000000001|           952.1200000000002|                   323.99999999999994|          43368.630000000005|                                22.0|                        1.2|       195.69598389982107|\n",
      "|          93|         NULL|       green|  30308.009999999995|               655.65|                  297.5|        2848.0600000000004|                     1195.75|                   314.10000000000014|           35931.47000000002|                               291.5|         1.3621399176954732|         7.39572617946346|\n",
      "|         118|         NULL|       green|   4471.259999999999|                41.25|                   25.5|         90.86999999999999|           650.9100000000001|                   23.699999999999996|                     5303.49|                                 0.0|          1.169811320754717|       18.348101265822788|\n",
      "|         189|         NULL|       green|   94516.57999999991|              4349.99|                 1131.0|                    7784.5|                      769.13|                   1469.4000000000015|          111309.84999999987|                              700.25|         1.2221715328467153|       100.36491477842397|\n",
      "|         153|         NULL|       green|   44446.13999999999|   1739.5999999999997|                  314.0|        1898.3600000000001|           836.8100000000001|                    538.5000000000001|           49846.36000000003|                                38.5|         1.1730769230769231|        85.14134782608691|\n",
      "|         221|         NULL|       green|             4423.11|                 43.0|                   25.5|         97.50999999999999|                      650.65|                   25.199999999999996|                     5278.72|                                 0.0|         1.5272727272727273|       15.346785714285716|\n",
      "|         225|         NULL|       green|   327440.8000000003|             15683.28|                 1740.5|        14035.020000000002|           6848.680000000004|                    4104.900000000068|           370806.5299999992|                              257.75|          1.153555479216764|        26.19238507567757|\n",
      "|          76|         NULL|       green|   519384.7100000026|   22772.819999999996|                 1959.0|        17321.469999999998|          16248.769999999977|                    5437.200000000093|           583539.5200000025|                                8.25|         1.2111475409836066|        79.12579277697994|\n",
      "|         227|         NULL|       green|           145901.41|              4067.25|                  700.5|                   5313.89|          1879.9700000000003|                   1220.6999999999937|           159232.0199999999|                               41.25|          1.043778801843318|       30.871060496505184|\n",
      "|          94|         NULL|       green|   82998.72000000003|   3515.6999999999994|                  562.0|        3282.3399999999997|          2794.8600000000015|                   1018.7999999999957|           94344.32000000012|                                46.5|         1.1953612845673507|        75.99355281992558|\n",
      "|          52|         NULL|       green|  204883.63000000003|               6166.2|                 7813.5|        30908.170000000002|          1451.2800000000004|                    4981.799999999891|           262175.6300000012|                              6024.0|         1.2154023577652486|        5.637083707293722|\n",
      "|         160|         NULL|       green|   46051.61999999998|   1986.9499999999998|                  224.0|        2058.2099999999996|          1289.8200000000002|                    539.0999999999998|          52245.800000000025|                                38.5|         1.2039473684210527|        9.662490483958676|\n",
      "+------------+-------------+------------+--------------------+---------------------+-----------------------+--------------------------+----------------------------+-------------------------------------+----------------------------+------------------------------------+---------------------------+-------------------------+\n",
      "only showing top 20 rows\n",
      "\n"
     ]
    }
   ],
   "source": [
    "df_result.show()"
   ]
  },
  {
   "cell_type": "code",
   "execution_count": 57,
   "id": "a8dcdd1b-8450-406b-8941-7e74671f4eea",
   "metadata": {},
   "outputs": [],
   "source": [
    "df_result.registerTempTable('df_result_data')"
   ]
  },
  {
   "cell_type": "code",
   "execution_count": 58,
   "id": "24312c4a-085e-45c9-84e2-b60d81fb671d",
   "metadata": {},
   "outputs": [
    {
     "name": "stdout",
     "output_type": "stream",
     "text": [
      "+------------+--------+\n",
      "|service_type|count(1)|\n",
      "+------------+--------+\n",
      "|       green|    4792|\n",
      "|      yellow|    5103|\n",
      "+------------+--------+\n",
      "\n"
     ]
    }
   ],
   "source": [
    "spark.sql(\"\"\"\n",
    "SELECT \n",
    "    service_type,\n",
    "    count (1)\n",
    "FROM \n",
    "    df_result_data \n",
    "GROUP BY\n",
    "    service_type\n",
    "\"\"\").show()"
   ]
  },
  {
   "cell_type": "code",
   "execution_count": null,
   "id": "dad3afc9-5964-4f1c-bb77-b3b6748f86a9",
   "metadata": {},
   "outputs": [],
   "source": []
  }
 ],
 "metadata": {
  "kernelspec": {
   "display_name": "Python 3 (ipykernel)",
   "language": "python",
   "name": "python3"
  },
  "language_info": {
   "codemirror_mode": {
    "name": "ipython",
    "version": 3
   },
   "file_extension": ".py",
   "mimetype": "text/x-python",
   "name": "python",
   "nbconvert_exporter": "python",
   "pygments_lexer": "ipython3",
   "version": "3.11.8"
  }
 },
 "nbformat": 4,
 "nbformat_minor": 5
}
