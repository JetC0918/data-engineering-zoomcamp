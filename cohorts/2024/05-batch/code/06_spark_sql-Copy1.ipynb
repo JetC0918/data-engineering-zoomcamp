{
 "cells": [
  {
   "cell_type": "code",
   "execution_count": 1,
   "id": "04775625-7304-4659-851e-343ec572c865",
   "metadata": {},
   "outputs": [],
   "source": [
    "import pyspark\n",
    "from pyspark.sql import SparkSession\n",
    "\n",
    "spark = SparkSession.builder \\\n",
    "    .master(\"spark://192.168.56.1:7077\") \\\n",
    "    .appName('test') \\\n",
    "    .getOrCreate()"
   ]
  },
  {
   "cell_type": "code",
   "execution_count": 2,
   "id": "05977e3e-02c0-410a-a872-09cdda302897",
   "metadata": {},
   "outputs": [
    {
     "name": "stdout",
     "output_type": "stream",
     "text": [
      "Name: pyspark\n",
      "Version: 3.5.1\n",
      "Summary: Apache Spark Python API\n",
      "Home-page: https://github.com/apache/spark/tree/master/python\n",
      "Author: Spark Developers\n",
      "Author-email: dev@spark.apache.org\n",
      "License: http://www.apache.org/licenses/LICENSE-2.0\n",
      "Location: C:\\Users\\crab\\AppData\\Local\\Programs\\Python\\Python311\\Lib\\site-packages\n",
      "Requires: py4j\n",
      "Required-by: \n",
      "Note: you may need to restart the kernel to use updated packages.\n"
     ]
    }
   ],
   "source": [
    "pip show pyspark"
   ]
  },
  {
   "cell_type": "code",
   "execution_count": null,
   "id": "cffcf90c-05c8-4a1c-8b70-d062164631f5",
   "metadata": {},
   "outputs": [],
   "source": [
    "print(\"Pyspark version\", pyspark.__version__)\n",
    "print(\"Spark version\", spark.version)"
   ]
  },
  {
   "cell_type": "code",
   "execution_count": null,
   "id": "aa0e1099-65f3-4309-9630-b511c2bf8f18",
   "metadata": {},
   "outputs": [],
   "source": [
    "df = spark.sql(\"\"\"SELECT 'hello' AS message\"\"\")"
   ]
  },
  {
   "cell_type": "code",
   "execution_count": 3,
   "id": "364c177b-b8f2-4d40-a2ff-c4c477997ffd",
   "metadata": {},
   "outputs": [],
   "source": [
    "df_green = spark.read.parquet('data/pq/green/*/*')"
   ]
  },
  {
   "cell_type": "code",
   "execution_count": 4,
   "id": "a80f0ab8-2f93-49cb-beb0-9f736cbb19d2",
   "metadata": {},
   "outputs": [],
   "source": [
    "df_yellow = spark.read.parquet('data/pq/yellow/*/*')"
   ]
  },
  {
   "cell_type": "code",
   "execution_count": 5,
   "id": "2bf81409-b7dc-48c0-8bbc-dd7b46cf361f",
   "metadata": {
    "scrolled": true
   },
   "outputs": [
    {
     "data": {
      "text/plain": [
       "['VendorID',\n",
       " 'lpep_pickup_datetime',\n",
       " 'lpep_dropoff_datetime',\n",
       " 'store_and_fwd_flag',\n",
       " 'RatecodeID',\n",
       " 'PULocationID',\n",
       " 'DOLocationID',\n",
       " 'passenger_count',\n",
       " 'trip_distance',\n",
       " 'fare_amount',\n",
       " 'extra',\n",
       " 'mta_tax',\n",
       " 'tip_amount',\n",
       " 'tolls_amount',\n",
       " 'ehail_fee',\n",
       " 'improvement_surcharge',\n",
       " 'total_amount',\n",
       " 'payment_type',\n",
       " 'trip_type',\n",
       " 'congestion_surcharge']"
      ]
     },
     "execution_count": 5,
     "metadata": {},
     "output_type": "execute_result"
    }
   ],
   "source": [
    "df_green.columns"
   ]
  },
  {
   "cell_type": "code",
   "execution_count": 6,
   "id": "c5029f58-68cc-4bad-babc-0fc9058942e3",
   "metadata": {},
   "outputs": [
    {
     "data": {
      "text/plain": [
       "['VendorID',\n",
       " 'tpep_pickup_datetime',\n",
       " 'tpep_dropoff_datetime',\n",
       " 'passenger_count',\n",
       " 'trip_distance',\n",
       " 'RatecodeID',\n",
       " 'store_and_fwd_flag',\n",
       " 'PULocationID',\n",
       " 'DOLocationID',\n",
       " 'payment_type',\n",
       " 'fare_amount',\n",
       " 'extra',\n",
       " 'mta_tax',\n",
       " 'tip_amount',\n",
       " 'tolls_amount',\n",
       " 'improvement_surcharge',\n",
       " 'total_amount',\n",
       " 'congestion_surcharge']"
      ]
     },
     "execution_count": 6,
     "metadata": {},
     "output_type": "execute_result"
    }
   ],
   "source": [
    "df_yellow.columns"
   ]
  },
  {
   "cell_type": "code",
   "execution_count": 7,
   "id": "6dcaa695-ff00-45ee-8673-01e9278b2c0e",
   "metadata": {},
   "outputs": [
    {
     "data": {
      "text/plain": [
       "{'DOLocationID',\n",
       " 'PULocationID',\n",
       " 'RatecodeID',\n",
       " 'VendorID',\n",
       " 'congestion_surcharge',\n",
       " 'extra',\n",
       " 'fare_amount',\n",
       " 'improvement_surcharge',\n",
       " 'mta_tax',\n",
       " 'passenger_count',\n",
       " 'payment_type',\n",
       " 'store_and_fwd_flag',\n",
       " 'tip_amount',\n",
       " 'tolls_amount',\n",
       " 'total_amount',\n",
       " 'trip_distance'}"
      ]
     },
     "execution_count": 7,
     "metadata": {},
     "output_type": "execute_result"
    }
   ],
   "source": [
    "#Get columns that both datasets has\n",
    "set(df_green.columns) & set (df_yellow.columns)"
   ]
  },
  {
   "cell_type": "code",
   "execution_count": 8,
   "id": "ca967a36-85e8-4350-bba9-d73c4c6b5930",
   "metadata": {},
   "outputs": [],
   "source": [
    "df_green = df_green\\\n",
    "    .withColumnRenamed('lpep_pickup_datetime', 'pickup_datetime')\\\n",
    "    .withColumnRenamed('lpep_dropoff_datetime', 'dropoff_datetime')"
   ]
  },
  {
   "cell_type": "code",
   "execution_count": 9,
   "id": "5e543827-65e5-46ad-aaa5-408c360ccb97",
   "metadata": {},
   "outputs": [
    {
     "data": {
      "text/plain": [
       "['VendorID',\n",
       " 'pickup_datetime',\n",
       " 'dropoff_datetime',\n",
       " 'store_and_fwd_flag',\n",
       " 'RatecodeID',\n",
       " 'PULocationID',\n",
       " 'DOLocationID',\n",
       " 'passenger_count',\n",
       " 'trip_distance',\n",
       " 'fare_amount',\n",
       " 'extra',\n",
       " 'mta_tax',\n",
       " 'tip_amount',\n",
       " 'tolls_amount',\n",
       " 'ehail_fee',\n",
       " 'improvement_surcharge',\n",
       " 'total_amount',\n",
       " 'payment_type',\n",
       " 'trip_type',\n",
       " 'congestion_surcharge']"
      ]
     },
     "execution_count": 9,
     "metadata": {},
     "output_type": "execute_result"
    }
   ],
   "source": [
    "df_green.columns"
   ]
  },
  {
   "cell_type": "code",
   "execution_count": 10,
   "id": "fb94c43a-da58-4d08-b9e4-79c08fecb9c4",
   "metadata": {},
   "outputs": [],
   "source": [
    "df_yellow = df_yellow\\\n",
    "    .withColumnRenamed('tpep_pickup_datetime', 'pickup_datetime')\\\n",
    "    .withColumnRenamed('tpep_dropoff_datetime', 'dropoff_datetime')"
   ]
  },
  {
   "cell_type": "code",
   "execution_count": 11,
   "id": "0cd9767d-1c33-4955-b919-c5173ace51d9",
   "metadata": {},
   "outputs": [
    {
     "data": {
      "text/plain": [
       "['VendorID',\n",
       " 'pickup_datetime',\n",
       " 'dropoff_datetime',\n",
       " 'passenger_count',\n",
       " 'trip_distance',\n",
       " 'RatecodeID',\n",
       " 'store_and_fwd_flag',\n",
       " 'PULocationID',\n",
       " 'DOLocationID',\n",
       " 'payment_type',\n",
       " 'fare_amount',\n",
       " 'extra',\n",
       " 'mta_tax',\n",
       " 'tip_amount',\n",
       " 'tolls_amount',\n",
       " 'improvement_surcharge',\n",
       " 'total_amount',\n",
       " 'congestion_surcharge']"
      ]
     },
     "execution_count": 11,
     "metadata": {},
     "output_type": "execute_result"
    }
   ],
   "source": [
    "df_yellow.columns"
   ]
  },
  {
   "cell_type": "code",
   "execution_count": 12,
   "id": "dd0d16ac-d3af-435b-8448-97b6db5f6939",
   "metadata": {},
   "outputs": [
    {
     "data": {
      "text/plain": [
       "{'DOLocationID',\n",
       " 'PULocationID',\n",
       " 'RatecodeID',\n",
       " 'VendorID',\n",
       " 'congestion_surcharge',\n",
       " 'dropoff_datetime',\n",
       " 'extra',\n",
       " 'fare_amount',\n",
       " 'improvement_surcharge',\n",
       " 'mta_tax',\n",
       " 'passenger_count',\n",
       " 'payment_type',\n",
       " 'pickup_datetime',\n",
       " 'store_and_fwd_flag',\n",
       " 'tip_amount',\n",
       " 'tolls_amount',\n",
       " 'total_amount',\n",
       " 'trip_distance'}"
      ]
     },
     "execution_count": 12,
     "metadata": {},
     "output_type": "execute_result"
    }
   ],
   "source": [
    "#Get columns that both datasets has\n",
    "set(df_green.columns) & set (df_yellow.columns)"
   ]
  },
  {
   "cell_type": "code",
   "execution_count": 13,
   "id": "e0a22764-bd79-4b60-97b0-deba2b3ad847",
   "metadata": {},
   "outputs": [],
   "source": [
    "common_cols = []\n",
    "\n",
    "yellow_cols = set(df_yellow.columns)\n",
    "\n",
    "for col in df_green.columns:\n",
    "    if col in yellow_cols:\n",
    "        common_cols.append(col)"
   ]
  },
  {
   "cell_type": "code",
   "execution_count": 17,
   "id": "0a3f5e18-be8a-4d07-baae-c6d3e89ba398",
   "metadata": {},
   "outputs": [],
   "source": [
    "common_cols = ['VendorID',\n",
    "                 'pickup_datetime',\n",
    "                 'dropoff_datetime',\n",
    "                 'store_and_fwd_flag',\n",
    "                 'RatecodeID',\n",
    "                 'PULocationID',\n",
    "                 'DOLocationID',\n",
    "                 'passenger_count',\n",
    "                 'trip_distance',\n",
    "                 'fare_amount',\n",
    "                 'extra',\n",
    "                 'mta_tax',\n",
    "                 'tip_amount',\n",
    "                 'tolls_amount',\n",
    "                 'improvement_surcharge',\n",
    "                 'total_amount',\n",
    "                 'payment_type',\n",
    "                 'congestion_surcharge'\n",
    "]"
   ]
  },
  {
   "cell_type": "code",
   "execution_count": 18,
   "id": "5673c392-e386-4b62-ac92-e4b7e5b339b3",
   "metadata": {},
   "outputs": [],
   "source": [
    "from pyspark.sql import functions as F"
   ]
  },
  {
   "cell_type": "code",
   "execution_count": 19,
   "id": "b05a841b-c8e9-4e87-a850-2fc02dc8ed17",
   "metadata": {},
   "outputs": [],
   "source": [
    "df_green_sel = df_green\\\n",
    "    .select(common_cols)\\\n",
    "    .withColumn('service_type',F.lit('green'))"
   ]
  },
  {
   "cell_type": "code",
   "execution_count": 20,
   "id": "dda0215e-43bc-4390-a35e-d3801b60d5cd",
   "metadata": {},
   "outputs": [],
   "source": [
    "df_yellow_sel = df_yellow\\\n",
    "    .select(common_cols)\\\n",
    "    .withColumn('service_type',F.lit('yellow'))"
   ]
  },
  {
   "cell_type": "code",
   "execution_count": 21,
   "id": "6f99010c-8ea4-4657-88a2-9568e24e643b",
   "metadata": {},
   "outputs": [],
   "source": [
    "df_trips_data = df_green_sel.unionAll(df_yellow_sel)"
   ]
  },
  {
   "cell_type": "code",
   "execution_count": 22,
   "id": "9aad1738-621d-4765-beea-b51fc0e7eddc",
   "metadata": {},
   "outputs": [
    {
     "name": "stdout",
     "output_type": "stream",
     "text": [
      "+------------+--------+\n",
      "|service_type|   count|\n",
      "+------------+--------+\n",
      "|       green| 2304517|\n",
      "|      yellow|39649199|\n",
      "+------------+--------+\n",
      "\n"
     ]
    }
   ],
   "source": [
    "df_trips_data.groupBy('service_type').count().show()"
   ]
  },
  {
   "cell_type": "code",
   "execution_count": 23,
   "id": "20128efc-04a7-463d-a3cb-faca4fccb7a6",
   "metadata": {},
   "outputs": [
    {
     "name": "stderr",
     "output_type": "stream",
     "text": [
      "C:\\Users\\crab\\AppData\\Local\\Programs\\Python\\Python311\\Lib\\site-packages\\pyspark\\sql\\dataframe.py:329: FutureWarning: Deprecated in 2.0, use createOrReplaceTempView instead.\n",
      "  warnings.warn(\"Deprecated in 2.0, use createOrReplaceTempView instead.\", FutureWarning)\n"
     ]
    }
   ],
   "source": [
    "df_trips_data.registerTempTable('trips_data')"
   ]
  },
  {
   "cell_type": "code",
   "execution_count": 24,
   "id": "28795da7-9566-4ffe-a231-0d88511a7d73",
   "metadata": {},
   "outputs": [
    {
     "name": "stdout",
     "output_type": "stream",
     "text": [
      "+--------+-------------------+-------------------+------------------+----------+------------+------------+---------------+-------------+-----------+-----+-------+----------+------------+---------------------+------------+------------+--------------------+------------+\n",
      "|VendorID|    pickup_datetime|   dropoff_datetime|store_and_fwd_flag|RatecodeID|PULocationID|DOLocationID|passenger_count|trip_distance|fare_amount|extra|mta_tax|tip_amount|tolls_amount|improvement_surcharge|total_amount|payment_type|congestion_surcharge|service_type|\n",
      "+--------+-------------------+-------------------+------------------+----------+------------+------------+---------------+-------------+-----------+-----+-------+----------+------------+---------------------+------------+------------+--------------------+------------+\n",
      "|       2|2020-01-14 13:28:09|2020-01-14 13:35:19|                 N|         1|          74|          75|              1|         1.35|        7.0|  0.0|    0.5|      1.56|         0.0|                  0.3|        9.36|           1|                 0.0|       green|\n",
      "|       2|2020-01-28 12:11:44|2020-01-28 12:25:21|                 N|         1|         129|         179|              1|         3.73|       13.5|  0.0|    0.5|       1.0|         0.0|                  0.3|        15.3|           1|                 0.0|       green|\n",
      "|    NULL|2020-01-04 11:38:00|2020-01-04 12:11:00|              NULL|      NULL|          25|          41|           NULL|        11.19|      28.38|  0.0|    0.5|       0.0|         0.0|                  0.0|       28.88|        NULL|                NULL|       green|\n",
      "|       2|2020-01-30 10:03:36|2020-01-30 10:09:55|                 N|         5|         182|         242|              1|         1.32|       12.0|  0.0|    0.0|       0.0|         0.0|                  0.3|        12.3|           1|                 0.0|       green|\n",
      "|       1|2020-01-30 20:56:17|2020-01-30 21:00:18|                 N|         1|         210|         210|              1|          0.8|        5.0|  0.5|    0.5|       0.7|         0.0|                  0.3|         7.0|           1|                 0.0|       green|\n",
      "|       2|2020-01-06 14:40:15|2020-01-06 14:51:55|                 N|         1|          33|          66|              1|         1.24|        8.5|  0.0|    0.5|       0.0|         0.0|                  0.3|         9.3|           2|                 0.0|       green|\n",
      "|       2|2020-01-09 18:01:49|2020-01-09 18:05:28|                 N|         1|          42|         116|              1|         0.52|        4.5|  1.0|    0.5|       0.0|         0.0|                  0.3|         6.3|           2|                 0.0|       green|\n",
      "|       2|2020-01-29 04:39:21|2020-01-29 04:42:02|                 N|         1|         116|         116|              1|         0.58|        4.5|  0.5|    0.5|      0.01|         0.0|                  0.3|        5.81|           1|                 0.0|       green|\n",
      "|    NULL|2020-01-09 15:01:00|2020-01-09 15:28:00|              NULL|      NULL|         223|          92|           NULL|         6.79|      20.81|  0.0|    0.0|       0.0|         0.0|                  0.3|       21.11|        NULL|                NULL|       green|\n",
      "|       2|2020-01-31 08:32:25|2020-01-31 09:27:29|                 N|         1|          55|          55|              1|         9.69|       37.5|  0.0|    0.5|       0.0|         0.0|                  0.3|        38.3|           2|                 0.0|       green|\n",
      "+--------+-------------------+-------------------+------------------+----------+------------+------------+---------------+-------------+-----------+-----+-------+----------+------------+---------------------+------------+------------+--------------------+------------+\n",
      "\n"
     ]
    }
   ],
   "source": [
    "spark.sql(\"\"\"\n",
    "SELECT * FROM trips_data LIMIT 10;\n",
    "\"\"\").show()"
   ]
  },
  {
   "cell_type": "code",
   "execution_count": 25,
   "id": "f13c1d6c-96ed-4b80-b046-95a401b59e11",
   "metadata": {},
   "outputs": [
    {
     "name": "stdout",
     "output_type": "stream",
     "text": [
      "+------------+--------+\n",
      "|service_type|count(1)|\n",
      "+------------+--------+\n",
      "|       green| 2304517|\n",
      "|      yellow|39649199|\n",
      "+------------+--------+\n",
      "\n"
     ]
    }
   ],
   "source": [
    "spark.sql(\"\"\"\n",
    "SELECT \n",
    "    service_type,\n",
    "    count (1)\n",
    "FROM \n",
    "    trips_data \n",
    "GROUP BY\n",
    "    service_type\n",
    "\"\"\").show()"
   ]
  },
  {
   "cell_type": "code",
   "execution_count": 26,
   "id": "a260f862-834e-4083-a8d5-ed5bc86a93ec",
   "metadata": {},
   "outputs": [],
   "source": [
    "df_result = spark.sql(\"\"\"\n",
    "SELECT \n",
    "    -- Reveneue grouping \n",
    "    PULocationID AS revenue_zone,\n",
    "    date_trunc('month', pickup_datetime) AS revenue_month, \n",
    "    service_type, \n",
    "\n",
    "    -- Revenue calculation \n",
    "    SUM(fare_amount) AS revenue_monthly_fare,\n",
    "    SUM(extra) AS revenue_monthly_extra,\n",
    "    SUM(mta_tax) AS revenue_monthly_mta_tax,\n",
    "    SUM(tip_amount) AS revenue_monthly_tip_amount,\n",
    "    SUM(tolls_amount) AS revenue_monthly_tolls_amount,\n",
    "    SUM(improvement_surcharge) AS revenue_monthly_improvement_surcharge,\n",
    "    SUM(total_amount) AS revenue_monthly_total_amount,\n",
    "    SUM(congestion_surcharge) AS revenue_monthly_congestion_surcharge,\n",
    "\n",
    "    -- Additional calculations\n",
    "    AVG(passenger_count) AS avg_montly_passenger_count,\n",
    "    AVG(trip_distance) AS avg_montly_trip_distance\n",
    "FROM\n",
    "    trips_data\n",
    "GROUP BY\n",
    "    1, 2, 3\n",
    "\"\"\")"
   ]
  },
  {
   "cell_type": "code",
   "execution_count": 27,
   "id": "3366d8f3-ba17-4950-b4ca-49be645c8182",
   "metadata": {},
   "outputs": [
    {
     "name": "stdout",
     "output_type": "stream",
     "text": [
      "+------------+-------------------+------------+--------------------+---------------------+-----------------------+--------------------------+----------------------------+-------------------------------------+----------------------------+------------------------------------+--------------------------+------------------------+\n",
      "|revenue_zone|      revenue_month|service_type|revenue_monthly_fare|revenue_monthly_extra|revenue_monthly_mta_tax|revenue_monthly_tip_amount|revenue_monthly_tolls_amount|revenue_monthly_improvement_surcharge|revenue_monthly_total_amount|revenue_monthly_congestion_surcharge|avg_montly_passenger_count|avg_montly_trip_distance|\n",
      "+------------+-------------------+------------+--------------------+---------------------+-----------------------+--------------------------+----------------------------+-------------------------------------+----------------------------+------------------------------------+--------------------------+------------------------+\n",
      "|         252|2020-02-01 00:00:00|       green|   4542.539999999999|                289.5|                   22.0|                     16.52|           265.4500000000001|                   43.199999999999946|           5181.159999999999|                                 0.0|        1.1111111111111112|       7.692185430463573|\n",
      "|         206|2020-02-01 00:00:00|       green|   829.9700000000003|                 33.0|                    1.5|                     23.34|                      190.88|                    4.499999999999999|          1083.1899999999998|                                 0.0|                       1.0|      15.768666666666663|\n",
      "|          56|2020-03-01 00:00:00|       green|   8210.530000000002|                80.25|                  110.0|        107.07999999999997|           302.1700000000002|                   146.39999999999984|           8988.480000000009|                                 5.5|        1.2560553633217992|      3.9149448529411757|\n",
      "|          79|2020-03-01 00:00:00|       green|               644.4|                  5.5|                    0.5|                       0.0|                        30.6|                    5.999999999999998|           686.9999999999999|                                 0.0|                       1.0|      10.836500000000001|\n",
      "|          58|2020-03-01 00:00:00|       green|  380.40999999999997|                 3.75|                    4.0|                     10.86|                        6.12|                    5.699999999999998|          410.84000000000003|                                 0.0|                       1.0|      6.1747826086956525|\n",
      "|         166|2021-06-01 00:00:00|       green|  35136.959999999985|               1359.6|                 1268.0|         4529.260000000003|           747.5199999999992|                    830.9999999999653|           45920.04000000083|                              2271.5|        1.2098668754894284|      13.655554355651544|\n",
      "|         189|2021-06-01 00:00:00|       green|   4480.379999999997|                287.6|                   23.0|         299.5999999999999|          36.300000000000004|                   56.999999999999815|           5220.080000000006|                               13.75|        1.1590909090909092|      423.33326315789486|\n",
      "|          67|2021-05-01 00:00:00|       green|  2615.2800000000007|                280.5|                    4.0|                      5.41|          122.99999999999999|                    33.30000000000004|          3061.4900000000007|                                 0.0|        1.1111111111111112|       4.516936936936937|\n",
      "|         173|2020-01-01 00:00:00|       green|            15830.27|                862.0|                  377.0|                    262.91|           384.5300000000002|                    297.3000000000055|           18040.70999999979|                               30.25|        1.4243589743589744|       3.201485608170845|\n",
      "|          31|2020-01-01 00:00:00|       green|  2036.7800000000004|                104.5|                   28.5|                    133.47|           68.55999999999999|                   27.900000000000045|          2427.2099999999996|                                27.5|        1.1551724137931034|       5.635959595959594|\n",
      "|         126|2020-02-01 00:00:00|       green|   7159.769999999997|                583.0|                   80.0|        29.729999999999997|           234.4400000000001|                    97.49999999999943|           8191.340000000011|                                 0.0|        1.1764705882352942|       4.280221606648202|\n",
      "|         246|2020-02-01 00:00:00|       green|              505.92|                 38.5|                    0.0|                      6.32|                       26.76|                    4.199999999999999|                       581.7|                                 0.0|                       2.0|      11.361428571428572|\n",
      "|         171|2020-03-01 00:00:00|       green|   5354.580000000002|                27.25|                   21.0|        19.990000000000002|           316.6800000000002|                    63.59999999999975|           5846.900000000005|                                8.25|        1.2105263157894737|       7.585023041474654|\n",
      "|         146|2020-10-01 00:00:00|       green|  2839.5899999999992|                33.75|                   60.0|                    262.12|                       36.72|                   50.699999999999875|          3340.6300000000037|                               57.75|        1.7016129032258065|       628.7997041420119|\n",
      "|         198|2020-10-01 00:00:00|       green|   2648.759999999999|                 5.25|                    8.0|                    277.08|                       73.44|                   33.900000000000034|          3051.9299999999994|                                2.75|        1.0476190476190477|       4.569911504424777|\n",
      "|         174|2021-05-01 00:00:00|       green|   9594.080000000004|               869.65|                   28.0|         87.25000000000001|          360.37000000000006|                   113.99999999999963|           11061.60000000001|                                2.75|        1.3220338983050848|       5.810813648293961|\n",
      "|           6|2021-05-01 00:00:00|       green|               162.3|                 2.75|                    1.0|                       0.0|                        26.2|                   0.8999999999999999|                      193.15|                                 0.0|                       4.0|      15.856666666666667|\n",
      "|          38|2020-01-01 00:00:00|       green|  12386.740000000013|                698.0|                   67.0|                       0.0|           281.5200000000001|                   116.69999999999925|          13549.959999999981|                                 0.0|        1.2823529411764707|        7.61892523364486|\n",
      "|         165|2020-01-01 00:00:00|       green|  24802.129999999976|               1549.0|                  189.5|        101.14999999999999|           495.9500000000004|                   268.80000000000445|           27427.27999999993|                                11.0|        1.1891891891891893|       4.462666025024065|\n",
      "|         167|2020-03-01 00:00:00|       green|   8938.820000000002|               108.75|                  120.0|                     57.73|           366.3200000000002|                   155.40000000000018|           9815.470000000005|                                19.0|        1.1972789115646258|       4.020965391621126|\n",
      "+------------+-------------------+------------+--------------------+---------------------+-----------------------+--------------------------+----------------------------+-------------------------------------+----------------------------+------------------------------------+--------------------------+------------------------+\n",
      "only showing top 20 rows\n",
      "\n"
     ]
    }
   ],
   "source": [
    "df_result.show()"
   ]
  },
  {
   "cell_type": "code",
   "execution_count": 28,
   "id": "a8dcdd1b-8450-406b-8941-7e74671f4eea",
   "metadata": {},
   "outputs": [],
   "source": [
    "df_result.registerTempTable('df_result_data')"
   ]
  },
  {
   "cell_type": "code",
   "execution_count": 29,
   "id": "24312c4a-085e-45c9-84e2-b60d81fb671d",
   "metadata": {},
   "outputs": [
    {
     "name": "stdout",
     "output_type": "stream",
     "text": [
      "+------------+--------+\n",
      "|service_type|count(1)|\n",
      "+------------+--------+\n",
      "|       green|    4792|\n",
      "|      yellow|    5103|\n",
      "+------------+--------+\n",
      "\n"
     ]
    }
   ],
   "source": [
    "spark.sql(\"\"\"\n",
    "SELECT \n",
    "    service_type,\n",
    "    count (1)\n",
    "FROM \n",
    "    df_result_data \n",
    "GROUP BY\n",
    "    service_type\n",
    "\"\"\").show()"
   ]
  },
  {
   "cell_type": "code",
   "execution_count": null,
   "id": "dad3afc9-5964-4f1c-bb77-b3b6748f86a9",
   "metadata": {},
   "outputs": [],
   "source": []
  }
 ],
 "metadata": {
  "kernelspec": {
   "display_name": "Python 3 (ipykernel)",
   "language": "python",
   "name": "python3"
  },
  "language_info": {
   "codemirror_mode": {
    "name": "ipython",
    "version": 3
   },
   "file_extension": ".py",
   "mimetype": "text/x-python",
   "name": "python",
   "nbconvert_exporter": "python",
   "pygments_lexer": "ipython3",
   "version": "3.11.8"
  }
 },
 "nbformat": 4,
 "nbformat_minor": 5
}
